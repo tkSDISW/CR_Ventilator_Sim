{
 "cells": [
  {
   "cell_type": "markdown",
   "metadata": {},
   "source": [
    "# OA FC Report Generation Example\n",
    "\n",
    "The following generates document from model of Concussion Detection System. The document generated gives a decription of each each operational process and a list of activities for each process. It then generates a detailed decription of the related activities for that operational process.\n",
    "\n",
    "- Operational Process\n",
    "- Table of Activities\n",
    "- Related Activites\n",
    "    - Activity in Alpa order"
   ]
  },
  {
   "cell_type": "code",
   "execution_count": 1,
   "metadata": {
    "tags": []
   },
   "outputs": [
    {
     "name": "stderr",
     "output_type": "stream",
     "text": [
      "Duplicate UUID '_LB2MSY7lEeqNepwDMv-GAw' within fragment CR_Ventilator.aird\n",
      "Duplicate UUID '_LB2MS47lEeqNepwDMv-GAw' within fragment CR_Ventilator.aird\n",
      "Duplicate UUID '_LB2MTY7lEeqNepwDMv-GAw' within fragment CR_Ventilator.aird\n",
      "Duplicate UUID '_LB2MT47lEeqNepwDMv-GAw' within fragment CR_Ventilator.aird\n",
      "Duplicate UUID '_LB2MUY7lEeqNepwDMv-GAw' within fragment CR_Ventilator.aird\n",
      "Duplicate UUID '_LB2MU47lEeqNepwDMv-GAw' within fragment CR_Ventilator.aird\n"
     ]
    }
   ],
   "source": [
    "\n",
    "\n",
    "import jinja2\n",
    "import capellambse\n",
    "from IPython.display import Markdown\n",
    "\n",
    "from IPython.core.display import HTML\n",
    "from IPython import display\n",
    "import pandas as pd \n",
    "\n",
    "resources = {\n",
    "    \"CR_Ventilator_Sim\": \"CR_Ventilator_Sim/CR_Ventilator_Sim\",\n",
    "}\n",
    "path_to_model = \"../CR_Ventilator.aird\"\n",
    "model = capellambse.MelodyModel(path_to_model, resources=resources)\n",
    "\n"
   ]
  },
  {
   "cell_type": "markdown",
   "metadata": {},
   "source": [
    "Below defines a set of routines that use Jinga templates to generate report.\n"
   ]
  },
  {
   "cell_type": "code",
   "execution_count": 2,
   "metadata": {
    "tags": []
   },
   "outputs": [],
   "source": [
    "import capellambse_helper"
   ]
  },
  {
   "cell_type": "markdown",
   "metadata": {},
   "source": [
    "# Operational Processes \n",
    "\n",
    "The following generates tables of operational processes"
   ]
  },
  {
   "cell_type": "code",
   "execution_count": 3,
   "metadata": {},
   "outputs": [
    {
     "data": {
      "text/html": [
       "\n",
       "    <h1 style= \"padding-left: 0\"style= \"padding-left: 0\">Operational Process Utilty Cart Install - <span style=\"font-size: 10px\" > UUID: b54bfde6-69fb-4505-80ae-a10e49f57451 </span> </h1>\n",
       "    <h2>Summary</h2>\n",
       "    <p></p>\n",
       "     <h2>Description</h2>\n",
       "    <!-- Description contains preformatted HTML content -->\n",
       "    <div></div>\n",
       "    \n",
       "        <p style=\"text-align: left;\">No property values were identified.</p>\n",
       "       \n",
       "    \n",
       "        <p style=\"text-align: left;\">No property values groups were identified.</p>\n",
       "    \n",
       "    "
      ],
      "text/plain": [
       "<IPython.core.display.HTML object>"
      ]
     },
     "metadata": {},
     "output_type": "display_data"
    },
    {
     "name": "stdout",
     "output_type": "stream",
     "text": [
      "\n"
     ]
    },
    {
     "data": {
      "text/markdown": [
       "# Operational Process: Utilty Cart Install"
      ],
      "text/plain": [
       "<IPython.core.display.Markdown object>"
      ]
     },
     "metadata": {},
     "output_type": "display_data"
    },
    {
     "data": {
      "text/html": [
       "<div>\n",
       "<style scoped>\n",
       "    .dataframe tbody tr th:only-of-type {\n",
       "        vertical-align: middle;\n",
       "    }\n",
       "\n",
       "    .dataframe tbody tr th {\n",
       "        vertical-align: top;\n",
       "    }\n",
       "\n",
       "    .dataframe thead th {\n",
       "        text-align: right;\n",
       "    }\n",
       "</style>\n",
       "<table border=\"1\" class=\"dataframe\">\n",
       "  <thead>\n",
       "    <tr style=\"text-align: right;\">\n",
       "      <th></th>\n",
       "      <th>Function Owner</th>\n",
       "      <th>Function</th>\n",
       "      <th>Function Exchange</th>\n",
       "      <th>Function Exchange Items</th>\n",
       "      <th>Function Exchange Item Elements</th>\n",
       "    </tr>\n",
       "  </thead>\n",
       "  <tbody>\n",
       "    <tr>\n",
       "      <th>0</th>\n",
       "      <td>Patient Support Care Givers</td>\n",
       "      <td>Use Manual Resources</td>\n",
       "      <td>Instructions</td>\n",
       "      <td></td>\n",
       "      <td></td>\n",
       "    </tr>\n",
       "    <tr>\n",
       "      <th>1</th>\n",
       "      <td>Patient Support Care Givers</td>\n",
       "      <td>Use web resources</td>\n",
       "      <td>Instructions</td>\n",
       "      <td></td>\n",
       "      <td></td>\n",
       "    </tr>\n",
       "  </tbody>\n",
       "</table>\n",
       "</div>"
      ],
      "text/plain": [
       "                Function Owner              Function Function Exchange  \\\n",
       "0  Patient Support Care Givers  Use Manual Resources      Instructions   \n",
       "1  Patient Support Care Givers     Use web resources      Instructions   \n",
       "\n",
       "  Function Exchange Items Function Exchange Item Elements  \n",
       "0                                                          \n",
       "1                                                          "
      ]
     },
     "metadata": {},
     "output_type": "display_data"
    },
    {
     "data": {
      "text/markdown": [
       "# Operational Activites"
      ],
      "text/plain": [
       "<IPython.core.display.Markdown object>"
      ]
     },
     "metadata": {},
     "output_type": "display_data"
    },
    {
     "data": {
      "text/html": [
       "\n",
       "    <h2 style= \"padding-left: 0\"style= \"padding-left: 0\"> Install on Utility Cart - <span style=\"font-size: 10px\" > UUID: 2b91c851-191f-41ab-8f5a-7956a8ded735 </span> </h1>\n",
       "    \n",
       "    <p><b>Owning Entity or Actor:</b>  Patient Support Care Givers</p>\n",
       "    \n",
       "    \n",
       "        <p style=\"text-align: left;\">No property values were identified.</p>\n",
       "       \n",
       "    \n",
       "        <p style=\"text-align: left;\">No property values groups were identified.</p>\n",
       "    \n",
       "    "
      ],
      "text/plain": [
       "<IPython.core.display.HTML object>"
      ]
     },
     "metadata": {},
     "output_type": "display_data"
    },
    {
     "data": {
      "text/html": [
       "\n",
       "    <h2 style= \"padding-left: 0\"style= \"padding-left: 0\"> Use Manual Resources - <span style=\"font-size: 10px\" > UUID: e5163215-29e4-41e2-b631-8bd871ae1ef9 </span> </h1>\n",
       "    \n",
       "    <p><b>Owning Entity or Actor:</b>  Patient Support Care Givers</p>\n",
       "    \n",
       "    \n",
       "        <p style=\"text-align: left;\">No property values were identified.</p>\n",
       "       \n",
       "    \n",
       "        <p style=\"text-align: left;\">No property values groups were identified.</p>\n",
       "    \n",
       "    "
      ],
      "text/plain": [
       "<IPython.core.display.HTML object>"
      ]
     },
     "metadata": {},
     "output_type": "display_data"
    },
    {
     "data": {
      "text/html": [
       "\n",
       "    <h2 style= \"padding-left: 0\"style= \"padding-left: 0\"> Use web resources - <span style=\"font-size: 10px\" > UUID: f0fae93a-dbfb-48c5-8287-11faccf6eabb </span> </h1>\n",
       "    \n",
       "    <p><b>Owning Entity or Actor:</b>  Patient Support Care Givers</p>\n",
       "    \n",
       "    \n",
       "        <p style=\"text-align: left;\">No property values were identified.</p>\n",
       "       \n",
       "    \n",
       "        <p style=\"text-align: left;\">No property values groups were identified.</p>\n",
       "    \n",
       "    "
      ],
      "text/plain": [
       "<IPython.core.display.HTML object>"
      ]
     },
     "metadata": {},
     "output_type": "display_data"
    },
    {
     "data": {
      "text/html": [
       "\n",
       "    <h1 style= \"padding-left: 0\"style= \"padding-left: 0\">Operational Process Cart Install - <span style=\"font-size: 10px\" > UUID: 5bbaed24-eb2d-4a3a-9d2a-5369adac1a7b </span> </h1>\n",
       "    <h2>Summary</h2>\n",
       "    <p></p>\n",
       "     <h2>Description</h2>\n",
       "    <!-- Description contains preformatted HTML content -->\n",
       "    <div></div>\n",
       "    \n",
       "        <p style=\"text-align: left;\">No property values were identified.</p>\n",
       "       \n",
       "    \n",
       "        <p style=\"text-align: left;\">No property values groups were identified.</p>\n",
       "    \n",
       "    "
      ],
      "text/plain": [
       "<IPython.core.display.HTML object>"
      ]
     },
     "metadata": {},
     "output_type": "display_data"
    },
    {
     "name": "stdout",
     "output_type": "stream",
     "text": [
      "\n"
     ]
    },
    {
     "data": {
      "text/markdown": [
       "# Operational Process: Cart Install"
      ],
      "text/plain": [
       "<IPython.core.display.Markdown object>"
      ]
     },
     "metadata": {},
     "output_type": "display_data"
    },
    {
     "data": {
      "text/html": [
       "<div>\n",
       "<style scoped>\n",
       "    .dataframe tbody tr th:only-of-type {\n",
       "        vertical-align: middle;\n",
       "    }\n",
       "\n",
       "    .dataframe tbody tr th {\n",
       "        vertical-align: top;\n",
       "    }\n",
       "\n",
       "    .dataframe thead th {\n",
       "        text-align: right;\n",
       "    }\n",
       "</style>\n",
       "<table border=\"1\" class=\"dataframe\">\n",
       "  <thead>\n",
       "    <tr style=\"text-align: right;\">\n",
       "      <th></th>\n",
       "      <th>Function Owner</th>\n",
       "      <th>Function</th>\n",
       "      <th>Function Exchange</th>\n",
       "      <th>Function Exchange Items</th>\n",
       "      <th>Function Exchange Item Elements</th>\n",
       "    </tr>\n",
       "  </thead>\n",
       "  <tbody>\n",
       "    <tr>\n",
       "      <th>0</th>\n",
       "      <td>Patient Support Care Givers</td>\n",
       "      <td>Use Manual Resources</td>\n",
       "      <td>Instructions</td>\n",
       "      <td></td>\n",
       "      <td></td>\n",
       "    </tr>\n",
       "    <tr>\n",
       "      <th>1</th>\n",
       "      <td>Patient Support Care Givers</td>\n",
       "      <td>Use web resources</td>\n",
       "      <td>Instructions</td>\n",
       "      <td></td>\n",
       "      <td></td>\n",
       "    </tr>\n",
       "  </tbody>\n",
       "</table>\n",
       "</div>"
      ],
      "text/plain": [
       "                Function Owner              Function Function Exchange  \\\n",
       "0  Patient Support Care Givers  Use Manual Resources      Instructions   \n",
       "1  Patient Support Care Givers     Use web resources      Instructions   \n",
       "\n",
       "  Function Exchange Items Function Exchange Item Elements  \n",
       "0                                                          \n",
       "1                                                          "
      ]
     },
     "metadata": {},
     "output_type": "display_data"
    },
    {
     "data": {
      "text/markdown": [
       "# Operational Activites"
      ],
      "text/plain": [
       "<IPython.core.display.Markdown object>"
      ]
     },
     "metadata": {},
     "output_type": "display_data"
    },
    {
     "data": {
      "text/html": [
       "\n",
       "    <h2 style= \"padding-left: 0\"style= \"padding-left: 0\"> Install on wheel chair  - <span style=\"font-size: 10px\" > UUID: b0288b4d-a065-46a7-85e8-915acb93be33 </span> </h1>\n",
       "    \n",
       "    <p><b>Owning Entity or Actor:</b>  Patient Support Care Givers</p>\n",
       "    \n",
       "    \n",
       "        <p style=\"text-align: left;\">No property values were identified.</p>\n",
       "       \n",
       "    \n",
       "        <p style=\"text-align: left;\">No property values groups were identified.</p>\n",
       "    \n",
       "    "
      ],
      "text/plain": [
       "<IPython.core.display.HTML object>"
      ]
     },
     "metadata": {},
     "output_type": "display_data"
    },
    {
     "data": {
      "text/html": [
       "\n",
       "    <h2 style= \"padding-left: 0\"style= \"padding-left: 0\"> Use Manual Resources - <span style=\"font-size: 10px\" > UUID: e5163215-29e4-41e2-b631-8bd871ae1ef9 </span> </h1>\n",
       "    \n",
       "    <p><b>Owning Entity or Actor:</b>  Patient Support Care Givers</p>\n",
       "    \n",
       "    \n",
       "        <p style=\"text-align: left;\">No property values were identified.</p>\n",
       "       \n",
       "    \n",
       "        <p style=\"text-align: left;\">No property values groups were identified.</p>\n",
       "    \n",
       "    "
      ],
      "text/plain": [
       "<IPython.core.display.HTML object>"
      ]
     },
     "metadata": {},
     "output_type": "display_data"
    },
    {
     "data": {
      "text/html": [
       "\n",
       "    <h2 style= \"padding-left: 0\"style= \"padding-left: 0\"> Use web resources - <span style=\"font-size: 10px\" > UUID: f0fae93a-dbfb-48c5-8287-11faccf6eabb </span> </h1>\n",
       "    \n",
       "    <p><b>Owning Entity or Actor:</b>  Patient Support Care Givers</p>\n",
       "    \n",
       "    \n",
       "        <p style=\"text-align: left;\">No property values were identified.</p>\n",
       "       \n",
       "    \n",
       "        <p style=\"text-align: left;\">No property values groups were identified.</p>\n",
       "    \n",
       "    "
      ],
      "text/plain": [
       "<IPython.core.display.HTML object>"
      ]
     },
     "metadata": {},
     "output_type": "display_data"
    },
    {
     "data": {
      "text/html": [
       "\n",
       "    <h1 style= \"padding-left: 0\"style= \"padding-left: 0\">Operational Process Faciltate Install - <span style=\"font-size: 10px\" > UUID: 1f185717-717a-4e28-b619-ba7eb6f62282 </span> </h1>\n",
       "    <h2>Summary</h2>\n",
       "    <p></p>\n",
       "     <h2>Description</h2>\n",
       "    <!-- Description contains preformatted HTML content -->\n",
       "    <div></div>\n",
       "    \n",
       "        <p style=\"text-align: left;\">No property values were identified.</p>\n",
       "       \n",
       "    \n",
       "        <p style=\"text-align: left;\">No property values groups were identified.</p>\n",
       "    \n",
       "    "
      ],
      "text/plain": [
       "<IPython.core.display.HTML object>"
      ]
     },
     "metadata": {},
     "output_type": "display_data"
    },
    {
     "name": "stdout",
     "output_type": "stream",
     "text": [
      "\n"
     ]
    },
    {
     "data": {
      "text/markdown": [
       "# Operational Process: Faciltate Install"
      ],
      "text/plain": [
       "<IPython.core.display.Markdown object>"
      ]
     },
     "metadata": {},
     "output_type": "display_data"
    },
    {
     "data": {
      "text/html": [
       "<div>\n",
       "<style scoped>\n",
       "    .dataframe tbody tr th:only-of-type {\n",
       "        vertical-align: middle;\n",
       "    }\n",
       "\n",
       "    .dataframe tbody tr th {\n",
       "        vertical-align: top;\n",
       "    }\n",
       "\n",
       "    .dataframe thead th {\n",
       "        text-align: right;\n",
       "    }\n",
       "</style>\n",
       "<table border=\"1\" class=\"dataframe\">\n",
       "  <thead>\n",
       "    <tr style=\"text-align: right;\">\n",
       "      <th></th>\n",
       "      <th>Function Owner</th>\n",
       "      <th>Function</th>\n",
       "      <th>Function Exchange</th>\n",
       "      <th>Function Exchange Items</th>\n",
       "      <th>Function Exchange Item Elements</th>\n",
       "    </tr>\n",
       "  </thead>\n",
       "  <tbody>\n",
       "    <tr>\n",
       "      <th>0</th>\n",
       "      <td>Patient Support Care Givers</td>\n",
       "      <td>Use Manual Resources</td>\n",
       "      <td>Web Links</td>\n",
       "      <td></td>\n",
       "      <td></td>\n",
       "    </tr>\n",
       "    <tr>\n",
       "      <th>1</th>\n",
       "      <td>Patient Support Care Givers</td>\n",
       "      <td>Use Manual Resources</td>\n",
       "      <td>Instructions</td>\n",
       "      <td></td>\n",
       "      <td></td>\n",
       "    </tr>\n",
       "    <tr>\n",
       "      <th>2</th>\n",
       "      <td>Patient Support Care Givers</td>\n",
       "      <td>Unpack Box</td>\n",
       "      <td>Components and Manual</td>\n",
       "      <td></td>\n",
       "      <td></td>\n",
       "    </tr>\n",
       "  </tbody>\n",
       "</table>\n",
       "</div>"
      ],
      "text/plain": [
       "                Function Owner              Function      Function Exchange  \\\n",
       "0  Patient Support Care Givers  Use Manual Resources              Web Links   \n",
       "1  Patient Support Care Givers  Use Manual Resources           Instructions   \n",
       "2  Patient Support Care Givers            Unpack Box  Components and Manual   \n",
       "\n",
       "  Function Exchange Items Function Exchange Item Elements  \n",
       "0                                                          \n",
       "1                                                          \n",
       "2                                                          "
      ]
     },
     "metadata": {},
     "output_type": "display_data"
    },
    {
     "data": {
      "text/markdown": [
       "# Operational Activites"
      ],
      "text/plain": [
       "<IPython.core.display.Markdown object>"
      ]
     },
     "metadata": {},
     "output_type": "display_data"
    },
    {
     "data": {
      "text/html": [
       "\n",
       "    <h2 style= \"padding-left: 0\"style= \"padding-left: 0\"> Assemble  unit - <span style=\"font-size: 10px\" > UUID: fe9aec28-678a-4eae-a4b2-b3b353fd30f3 </span> </h1>\n",
       "    \n",
       "    <p><b>Owning Entity or Actor:</b>  Patient Support Care Givers</p>\n",
       "    \n",
       "    \n",
       "        <p style=\"text-align: left;\">No property values were identified.</p>\n",
       "       \n",
       "    \n",
       "        <p style=\"text-align: left;\">No property values groups were identified.</p>\n",
       "    \n",
       "    "
      ],
      "text/plain": [
       "<IPython.core.display.HTML object>"
      ]
     },
     "metadata": {},
     "output_type": "display_data"
    },
    {
     "data": {
      "text/html": [
       "\n",
       "    <h2 style= \"padding-left: 0\"style= \"padding-left: 0\"> Unpack Box - <span style=\"font-size: 10px\" > UUID: 9910ccc3-55a3-4991-aa82-6137a667c6b5 </span> </h1>\n",
       "    \n",
       "    <p><b>Owning Entity or Actor:</b>  Patient Support Care Givers</p>\n",
       "    \n",
       "    \n",
       "        <p style=\"text-align: left;\">No property values were identified.</p>\n",
       "       \n",
       "    \n",
       "        <p style=\"text-align: left;\">No property values groups were identified.</p>\n",
       "    \n",
       "    "
      ],
      "text/plain": [
       "<IPython.core.display.HTML object>"
      ]
     },
     "metadata": {},
     "output_type": "display_data"
    },
    {
     "data": {
      "text/html": [
       "\n",
       "    <h2 style= \"padding-left: 0\"style= \"padding-left: 0\"> Use Manual Resources - <span style=\"font-size: 10px\" > UUID: e5163215-29e4-41e2-b631-8bd871ae1ef9 </span> </h1>\n",
       "    \n",
       "    <p><b>Owning Entity or Actor:</b>  Patient Support Care Givers</p>\n",
       "    \n",
       "    \n",
       "        <p style=\"text-align: left;\">No property values were identified.</p>\n",
       "       \n",
       "    \n",
       "        <p style=\"text-align: left;\">No property values groups were identified.</p>\n",
       "    \n",
       "    "
      ],
      "text/plain": [
       "<IPython.core.display.HTML object>"
      ]
     },
     "metadata": {},
     "output_type": "display_data"
    },
    {
     "data": {
      "text/html": [
       "\n",
       "    <h2 style= \"padding-left: 0\"style= \"padding-left: 0\"> Use web resources - <span style=\"font-size: 10px\" > UUID: f0fae93a-dbfb-48c5-8287-11faccf6eabb </span> </h1>\n",
       "    \n",
       "    <p><b>Owning Entity or Actor:</b>  Patient Support Care Givers</p>\n",
       "    \n",
       "    \n",
       "        <p style=\"text-align: left;\">No property values were identified.</p>\n",
       "       \n",
       "    \n",
       "        <p style=\"text-align: left;\">No property values groups were identified.</p>\n",
       "    \n",
       "    "
      ],
      "text/plain": [
       "<IPython.core.display.HTML object>"
      ]
     },
     "metadata": {},
     "output_type": "display_data"
    },
    {
     "data": {
      "text/html": [
       "\n",
       "    <h1 style= \"padding-left: 0\"style= \"padding-left: 0\">Operational Process Faciltate Patient Circuit Install - <span style=\"font-size: 10px\" > UUID: 4ac82eb5-d141-4896-93b5-64c144f85b32 </span> </h1>\n",
       "    <h2>Summary</h2>\n",
       "    <p></p>\n",
       "     <h2>Description</h2>\n",
       "    <!-- Description contains preformatted HTML content -->\n",
       "    <div></div>\n",
       "    \n",
       "        <p style=\"text-align: left;\">No property values were identified.</p>\n",
       "       \n",
       "    \n",
       "        <p style=\"text-align: left;\">No property values groups were identified.</p>\n",
       "    \n",
       "    "
      ],
      "text/plain": [
       "<IPython.core.display.HTML object>"
      ]
     },
     "metadata": {},
     "output_type": "display_data"
    },
    {
     "name": "stdout",
     "output_type": "stream",
     "text": [
      "\n"
     ]
    },
    {
     "data": {
      "text/markdown": [
       "# Operational Process: Faciltate Patient Circuit Install"
      ],
      "text/plain": [
       "<IPython.core.display.Markdown object>"
      ]
     },
     "metadata": {},
     "output_type": "display_data"
    },
    {
     "data": {
      "text/html": [
       "<div>\n",
       "<style scoped>\n",
       "    .dataframe tbody tr th:only-of-type {\n",
       "        vertical-align: middle;\n",
       "    }\n",
       "\n",
       "    .dataframe tbody tr th {\n",
       "        vertical-align: top;\n",
       "    }\n",
       "\n",
       "    .dataframe thead th {\n",
       "        text-align: right;\n",
       "    }\n",
       "</style>\n",
       "<table border=\"1\" class=\"dataframe\">\n",
       "  <thead>\n",
       "    <tr style=\"text-align: right;\">\n",
       "      <th></th>\n",
       "      <th>Function Owner</th>\n",
       "      <th>Function</th>\n",
       "      <th>Function Exchange</th>\n",
       "      <th>Function Exchange Items</th>\n",
       "      <th>Function Exchange Item Elements</th>\n",
       "    </tr>\n",
       "  </thead>\n",
       "  <tbody>\n",
       "    <tr>\n",
       "      <th>0</th>\n",
       "      <td>Clincian in Room</td>\n",
       "      <td>Choose the Patient Circuit Type</td>\n",
       "      <td>Circuit</td>\n",
       "      <td></td>\n",
       "      <td></td>\n",
       "    </tr>\n",
       "    <tr>\n",
       "      <th>1</th>\n",
       "      <td>Clincian in Room</td>\n",
       "      <td>Choose the Patient Circuit Type</td>\n",
       "      <td>Circuit</td>\n",
       "      <td></td>\n",
       "      <td></td>\n",
       "    </tr>\n",
       "    <tr>\n",
       "      <th>2</th>\n",
       "      <td>Clincian in Room</td>\n",
       "      <td>Choose the Patient Circuit Type</td>\n",
       "      <td>Circut</td>\n",
       "      <td></td>\n",
       "      <td></td>\n",
       "    </tr>\n",
       "    <tr>\n",
       "      <th>3</th>\n",
       "      <td>Clincian in Room</td>\n",
       "      <td>Choose the Patient Circuit Type</td>\n",
       "      <td>Circuti</td>\n",
       "      <td></td>\n",
       "      <td></td>\n",
       "    </tr>\n",
       "    <tr>\n",
       "      <th>4</th>\n",
       "      <td>Patient Support Care Givers</td>\n",
       "      <td>Inspect Patient Circuit Packaging</td>\n",
       "      <td>Interaction 11</td>\n",
       "      <td></td>\n",
       "      <td></td>\n",
       "    </tr>\n",
       "    <tr>\n",
       "      <th>5</th>\n",
       "      <td>Clincian in Room</td>\n",
       "      <td>Inspect Air Inlet Filter</td>\n",
       "      <td>Air Filter State</td>\n",
       "      <td></td>\n",
       "      <td></td>\n",
       "    </tr>\n",
       "    <tr>\n",
       "      <th>6</th>\n",
       "      <td>Clincian in Room</td>\n",
       "      <td>Inspect bactera Filter</td>\n",
       "      <td>Bacteria Filter State</td>\n",
       "      <td></td>\n",
       "      <td></td>\n",
       "    </tr>\n",
       "    <tr>\n",
       "      <th>7</th>\n",
       "      <td>Patient Support Care Givers</td>\n",
       "      <td>Use Manual Resources</td>\n",
       "      <td>Circuit Info</td>\n",
       "      <td></td>\n",
       "      <td></td>\n",
       "    </tr>\n",
       "    <tr>\n",
       "      <th>8</th>\n",
       "      <td>Patient Support Care Givers</td>\n",
       "      <td>Use web resources</td>\n",
       "      <td>Circuit Info</td>\n",
       "      <td></td>\n",
       "      <td></td>\n",
       "    </tr>\n",
       "    <tr>\n",
       "      <th>9</th>\n",
       "      <td>Clincian in Room</td>\n",
       "      <td>Maintain Humidifier</td>\n",
       "      <td>Humidifier State</td>\n",
       "      <td></td>\n",
       "      <td></td>\n",
       "    </tr>\n",
       "    <tr>\n",
       "      <th>10</th>\n",
       "      <td>Clincian in Room</td>\n",
       "      <td>Maintan exhalation block</td>\n",
       "      <td>Exhale block state</td>\n",
       "      <td></td>\n",
       "      <td></td>\n",
       "    </tr>\n",
       "    <tr>\n",
       "      <th>11</th>\n",
       "      <td>Clincian in Room</td>\n",
       "      <td>Install O2 Senesor</td>\n",
       "      <td>O2 Sensor State</td>\n",
       "      <td></td>\n",
       "      <td></td>\n",
       "    </tr>\n",
       "    <tr>\n",
       "      <th>12</th>\n",
       "      <td>Clincian in Room</td>\n",
       "      <td>Establish Oxygen Supply</td>\n",
       "      <td>O2 State</td>\n",
       "      <td></td>\n",
       "      <td></td>\n",
       "    </tr>\n",
       "  </tbody>\n",
       "</table>\n",
       "</div>"
      ],
      "text/plain": [
       "                 Function Owner                           Function  \\\n",
       "0              Clincian in Room    Choose the Patient Circuit Type   \n",
       "1              Clincian in Room    Choose the Patient Circuit Type   \n",
       "2              Clincian in Room    Choose the Patient Circuit Type   \n",
       "3              Clincian in Room    Choose the Patient Circuit Type   \n",
       "4   Patient Support Care Givers  Inspect Patient Circuit Packaging   \n",
       "5              Clincian in Room           Inspect Air Inlet Filter   \n",
       "6              Clincian in Room             Inspect bactera Filter   \n",
       "7   Patient Support Care Givers               Use Manual Resources   \n",
       "8   Patient Support Care Givers                  Use web resources   \n",
       "9              Clincian in Room                Maintain Humidifier   \n",
       "10             Clincian in Room           Maintan exhalation block   \n",
       "11             Clincian in Room                 Install O2 Senesor   \n",
       "12             Clincian in Room            Establish Oxygen Supply   \n",
       "\n",
       "        Function Exchange Function Exchange Items  \\\n",
       "0                 Circuit                           \n",
       "1                 Circuit                           \n",
       "2                  Circut                           \n",
       "3                 Circuti                           \n",
       "4          Interaction 11                           \n",
       "5        Air Filter State                           \n",
       "6   Bacteria Filter State                           \n",
       "7           Circuit Info                            \n",
       "8            Circuit Info                           \n",
       "9        Humidifier State                           \n",
       "10     Exhale block state                           \n",
       "11        O2 Sensor State                           \n",
       "12               O2 State                           \n",
       "\n",
       "   Function Exchange Item Elements  \n",
       "0                                   \n",
       "1                                   \n",
       "2                                   \n",
       "3                                   \n",
       "4                                   \n",
       "5                                   \n",
       "6                                   \n",
       "7                                   \n",
       "8                                   \n",
       "9                                   \n",
       "10                                  \n",
       "11                                  \n",
       "12                                  "
      ]
     },
     "metadata": {},
     "output_type": "display_data"
    },
    {
     "data": {
      "text/markdown": [
       "# Operational Activites"
      ],
      "text/plain": [
       "<IPython.core.display.Markdown object>"
      ]
     },
     "metadata": {},
     "output_type": "display_data"
    },
    {
     "data": {
      "text/html": [
       "\n",
       "    <h2 style= \"padding-left: 0\"style= \"padding-left: 0\"> Choose the Patient Circuit Type - <span style=\"font-size: 10px\" > UUID: f4542b27-70d4-4a6f-9490-b441ee42073b </span> </h1>\n",
       "    \n",
       "    <p><b>Owning Entity or Actor:</b>  Clincian in Room</p>\n",
       "    \n",
       "    \n",
       "        <p style=\"text-align: left;\">No property values were identified.</p>\n",
       "       \n",
       "    \n",
       "        <p style=\"text-align: left;\">No property values groups were identified.</p>\n",
       "    \n",
       "    "
      ],
      "text/plain": [
       "<IPython.core.display.HTML object>"
      ]
     },
     "metadata": {},
     "output_type": "display_data"
    },
    {
     "data": {
      "text/html": [
       "\n",
       "    <h2 style= \"padding-left: 0\"style= \"padding-left: 0\"> Connect nurs call cable. - <span style=\"font-size: 10px\" > UUID: 47a8f651-37fd-44b9-9b14-e6bbe68d2aa9 </span> </h1>\n",
       "    \n",
       "    <p><b>Owning Entity or Actor:</b>  Clincian in Room</p>\n",
       "    \n",
       "    \n",
       "        <p style=\"text-align: left;\">No property values were identified.</p>\n",
       "       \n",
       "    \n",
       "        <p style=\"text-align: left;\">No property values groups were identified.</p>\n",
       "    \n",
       "    "
      ],
      "text/plain": [
       "<IPython.core.display.HTML object>"
      ]
     },
     "metadata": {},
     "output_type": "display_data"
    },
    {
     "data": {
      "text/html": [
       "\n",
       "    <h2 style= \"padding-left: 0\"style= \"padding-left: 0\"> Establish Oxygen Supply - <span style=\"font-size: 10px\" > UUID: aea698e3-b43e-41e3-ad2c-d0efbbbbf440 </span> </h1>\n",
       "    \n",
       "    <p><b>Owning Entity or Actor:</b>  Clincian in Room</p>\n",
       "    \n",
       "    \n",
       "        <p style=\"text-align: left;\">No property values were identified.</p>\n",
       "       \n",
       "    \n",
       "        <p style=\"text-align: left;\">No property values groups were identified.</p>\n",
       "    \n",
       "    "
      ],
      "text/plain": [
       "<IPython.core.display.HTML object>"
      ]
     },
     "metadata": {},
     "output_type": "display_data"
    },
    {
     "data": {
      "text/html": [
       "\n",
       "    <h2 style= \"padding-left: 0\"style= \"padding-left: 0\"> Inspect Air Inlet Filter - <span style=\"font-size: 10px\" > UUID: fbc4b07a-6a89-46a9-9206-7e2a665333b1 </span> </h1>\n",
       "    \n",
       "    <p><b>Owning Entity or Actor:</b>  Clincian in Room</p>\n",
       "    \n",
       "    \n",
       "        <p style=\"text-align: left;\">No property values were identified.</p>\n",
       "       \n",
       "    \n",
       "        <p style=\"text-align: left;\">No property values groups were identified.</p>\n",
       "    \n",
       "    "
      ],
      "text/plain": [
       "<IPython.core.display.HTML object>"
      ]
     },
     "metadata": {},
     "output_type": "display_data"
    },
    {
     "data": {
      "text/html": [
       "\n",
       "    <h2 style= \"padding-left: 0\"style= \"padding-left: 0\"> Inspect Patient Circuit Packaging - <span style=\"font-size: 10px\" > UUID: d9205745-025d-4649-a46c-a34fa0b68b18 </span> </h1>\n",
       "    \n",
       "    <p><b>Owning Entity or Actor:</b>  Patient Support Care Givers</p>\n",
       "    \n",
       "    \n",
       "        <p style=\"text-align: left;\">No property values were identified.</p>\n",
       "       \n",
       "    \n",
       "        <p style=\"text-align: left;\">No property values groups were identified.</p>\n",
       "    \n",
       "    "
      ],
      "text/plain": [
       "<IPython.core.display.HTML object>"
      ]
     },
     "metadata": {},
     "output_type": "display_data"
    },
    {
     "data": {
      "text/html": [
       "\n",
       "    <h2 style= \"padding-left: 0\"style= \"padding-left: 0\"> Inspect bactera Filter - <span style=\"font-size: 10px\" > UUID: d214a0b9-f4ff-4ef3-9bba-d99af87edd7d </span> </h1>\n",
       "    \n",
       "    <p><b>Owning Entity or Actor:</b>  Clincian in Room</p>\n",
       "    \n",
       "    \n",
       "        <p style=\"text-align: left;\">No property values were identified.</p>\n",
       "       \n",
       "    \n",
       "        <p style=\"text-align: left;\">No property values groups were identified.</p>\n",
       "    \n",
       "    "
      ],
      "text/plain": [
       "<IPython.core.display.HTML object>"
      ]
     },
     "metadata": {},
     "output_type": "display_data"
    },
    {
     "data": {
      "text/html": [
       "\n",
       "    <h2 style= \"padding-left: 0\"style= \"padding-left: 0\"> Install Circuit - <span style=\"font-size: 10px\" > UUID: 43696f9c-4e47-46d8-9290-0a249b6d2186 </span> </h1>\n",
       "    \n",
       "    <p><b>Owning Entity or Actor:</b>  Clincian in Room</p>\n",
       "    \n",
       "    \n",
       "        <p style=\"text-align: left;\">No property values were identified.</p>\n",
       "       \n",
       "    \n",
       "        <p style=\"text-align: left;\">No property values groups were identified.</p>\n",
       "    \n",
       "    "
      ],
      "text/plain": [
       "<IPython.core.display.HTML object>"
      ]
     },
     "metadata": {},
     "output_type": "display_data"
    },
    {
     "data": {
      "text/html": [
       "\n",
       "    <h2 style= \"padding-left: 0\"style= \"padding-left: 0\"> Install O2 Senesor - <span style=\"font-size: 10px\" > UUID: 80d26a32-9657-4ba8-a8d8-15218898fc37 </span> </h1>\n",
       "    \n",
       "    <p><b>Owning Entity or Actor:</b>  Clincian in Room</p>\n",
       "    \n",
       "    \n",
       "        <p style=\"text-align: left;\">No property values were identified.</p>\n",
       "       \n",
       "    \n",
       "        <p style=\"text-align: left;\">No property values groups were identified.</p>\n",
       "    \n",
       "    "
      ],
      "text/plain": [
       "<IPython.core.display.HTML object>"
      ]
     },
     "metadata": {},
     "output_type": "display_data"
    },
    {
     "data": {
      "text/html": [
       "\n",
       "    <h2 style= \"padding-left: 0\"style= \"padding-left: 0\"> Maintain Humidifier - <span style=\"font-size: 10px\" > UUID: d00d4fe2-146e-4863-b96f-f61c4ebf8293 </span> </h1>\n",
       "    \n",
       "    <p><b>Owning Entity or Actor:</b>  Clincian in Room</p>\n",
       "    \n",
       "    \n",
       "        <p style=\"text-align: left;\">No property values were identified.</p>\n",
       "       \n",
       "    \n",
       "        <p style=\"text-align: left;\">No property values groups were identified.</p>\n",
       "    \n",
       "    "
      ],
      "text/plain": [
       "<IPython.core.display.HTML object>"
      ]
     },
     "metadata": {},
     "output_type": "display_data"
    },
    {
     "data": {
      "text/html": [
       "\n",
       "    <h2 style= \"padding-left: 0\"style= \"padding-left: 0\"> Maintan exhalation block - <span style=\"font-size: 10px\" > UUID: f12b214d-774b-420e-b585-415a8e745186 </span> </h1>\n",
       "    \n",
       "    <p><b>Owning Entity or Actor:</b>  Clincian in Room</p>\n",
       "    \n",
       "    \n",
       "        <p style=\"text-align: left;\">No property values were identified.</p>\n",
       "       \n",
       "    \n",
       "        <p style=\"text-align: left;\">No property values groups were identified.</p>\n",
       "    \n",
       "    "
      ],
      "text/plain": [
       "<IPython.core.display.HTML object>"
      ]
     },
     "metadata": {},
     "output_type": "display_data"
    },
    {
     "data": {
      "text/html": [
       "\n",
       "    <h2 style= \"padding-left: 0\"style= \"padding-left: 0\"> Replace Filters - <span style=\"font-size: 10px\" > UUID: 4f669d6b-4a44-4ec7-99fe-6f23f18f74b7 </span> </h1>\n",
       "    \n",
       "    <p><b>Owning Entity or Actor:</b>  Clincian in Room</p>\n",
       "    \n",
       "    \n",
       "        <p style=\"text-align: left;\">No property values were identified.</p>\n",
       "       \n",
       "    \n",
       "        <p style=\"text-align: left;\">No property values groups were identified.</p>\n",
       "    \n",
       "    "
      ],
      "text/plain": [
       "<IPython.core.display.HTML object>"
      ]
     },
     "metadata": {},
     "output_type": "display_data"
    },
    {
     "data": {
      "text/html": [
       "\n",
       "    <h2 style= \"padding-left: 0\"style= \"padding-left: 0\"> Use Manual Resources - <span style=\"font-size: 10px\" > UUID: e5163215-29e4-41e2-b631-8bd871ae1ef9 </span> </h1>\n",
       "    \n",
       "    <p><b>Owning Entity or Actor:</b>  Patient Support Care Givers</p>\n",
       "    \n",
       "    \n",
       "        <p style=\"text-align: left;\">No property values were identified.</p>\n",
       "       \n",
       "    \n",
       "        <p style=\"text-align: left;\">No property values groups were identified.</p>\n",
       "    \n",
       "    "
      ],
      "text/plain": [
       "<IPython.core.display.HTML object>"
      ]
     },
     "metadata": {},
     "output_type": "display_data"
    },
    {
     "data": {
      "text/html": [
       "\n",
       "    <h2 style= \"padding-left: 0\"style= \"padding-left: 0\"> Use web resources - <span style=\"font-size: 10px\" > UUID: f0fae93a-dbfb-48c5-8287-11faccf6eabb </span> </h1>\n",
       "    \n",
       "    <p><b>Owning Entity or Actor:</b>  Patient Support Care Givers</p>\n",
       "    \n",
       "    \n",
       "        <p style=\"text-align: left;\">No property values were identified.</p>\n",
       "       \n",
       "    \n",
       "        <p style=\"text-align: left;\">No property values groups were identified.</p>\n",
       "    \n",
       "    "
      ],
      "text/plain": [
       "<IPython.core.display.HTML object>"
      ]
     },
     "metadata": {},
     "output_type": "display_data"
    },
    {
     "data": {
      "text/html": [
       "\n",
       "    <h1 style= \"padding-left: 0\"style= \"padding-left: 0\">Operational Process Connect to Patient - <span style=\"font-size: 10px\" > UUID: dfc5c6ae-555a-4c52-adac-4cb1199d9374 </span> </h1>\n",
       "    <h2>Summary</h2>\n",
       "    <p></p>\n",
       "     <h2>Description</h2>\n",
       "    <!-- Description contains preformatted HTML content -->\n",
       "    <div></div>\n",
       "    \n",
       "        <p style=\"text-align: left;\">No property values were identified.</p>\n",
       "       \n",
       "    \n",
       "        <p style=\"text-align: left;\">No property values groups were identified.</p>\n",
       "    \n",
       "    "
      ],
      "text/plain": [
       "<IPython.core.display.HTML object>"
      ]
     },
     "metadata": {},
     "output_type": "display_data"
    },
    {
     "name": "stdout",
     "output_type": "stream",
     "text": [
      "\n"
     ]
    },
    {
     "data": {
      "text/markdown": [
       "# Operational Process: Connect to Patient"
      ],
      "text/plain": [
       "<IPython.core.display.Markdown object>"
      ]
     },
     "metadata": {},
     "output_type": "display_data"
    },
    {
     "data": {
      "text/html": [
       "<div>\n",
       "<style scoped>\n",
       "    .dataframe tbody tr th:only-of-type {\n",
       "        vertical-align: middle;\n",
       "    }\n",
       "\n",
       "    .dataframe tbody tr th {\n",
       "        vertical-align: top;\n",
       "    }\n",
       "\n",
       "    .dataframe thead th {\n",
       "        text-align: right;\n",
       "    }\n",
       "</style>\n",
       "<table border=\"1\" class=\"dataframe\">\n",
       "  <thead>\n",
       "    <tr style=\"text-align: right;\">\n",
       "      <th></th>\n",
       "      <th>Function Owner</th>\n",
       "      <th>Function</th>\n",
       "      <th>Function Exchange</th>\n",
       "      <th>Function Exchange Items</th>\n",
       "      <th>Function Exchange Item Elements</th>\n",
       "    </tr>\n",
       "  </thead>\n",
       "  <tbody>\n",
       "    <tr>\n",
       "      <th>0</th>\n",
       "      <td>Clincian In Room</td>\n",
       "      <td>Connect to Patient</td>\n",
       "      <td>Patient Connection</td>\n",
       "      <td></td>\n",
       "      <td></td>\n",
       "    </tr>\n",
       "  </tbody>\n",
       "</table>\n",
       "</div>"
      ],
      "text/plain": [
       "     Function Owner            Function   Function Exchange  \\\n",
       "0  Clincian In Room  Connect to Patient  Patient Connection   \n",
       "\n",
       "  Function Exchange Items Function Exchange Item Elements  \n",
       "0                                                          "
      ]
     },
     "metadata": {},
     "output_type": "display_data"
    },
    {
     "data": {
      "text/markdown": [
       "# Operational Activites"
      ],
      "text/plain": [
       "<IPython.core.display.Markdown object>"
      ]
     },
     "metadata": {},
     "output_type": "display_data"
    },
    {
     "data": {
      "text/html": [
       "\n",
       "    <h2 style= \"padding-left: 0\"style= \"padding-left: 0\"> Connect to Patient - <span style=\"font-size: 10px\" > UUID: b5bfc7cd-4042-4944-8a4b-969b83abc021 </span> </h1>\n",
       "    \n",
       "    <p><b>Owning Entity or Actor:</b>  Clincian In Room</p>\n",
       "    \n",
       "    \n",
       "        <p style=\"text-align: left;\">No property values were identified.</p>\n",
       "       \n",
       "    \n",
       "        <p style=\"text-align: left;\">No property values groups were identified.</p>\n",
       "    \n",
       "    "
      ],
      "text/plain": [
       "<IPython.core.display.HTML object>"
      ]
     },
     "metadata": {},
     "output_type": "display_data"
    },
    {
     "data": {
      "text/html": [
       "\n",
       "    <h2 style= \"padding-left: 0\"style= \"padding-left: 0\"> Receive Connection - <span style=\"font-size: 10px\" > UUID: 49d4ddfb-54e1-4687-8712-a6fc26c4b88d </span> </h1>\n",
       "    \n",
       "    <p><b>Owning Entity or Actor:</b>  Patient</p>\n",
       "    \n",
       "    \n",
       "        <p style=\"text-align: left;\">No property values were identified.</p>\n",
       "       \n",
       "    \n",
       "        <p style=\"text-align: left;\">No property values groups were identified.</p>\n",
       "    \n",
       "    "
      ],
      "text/plain": [
       "<IPython.core.display.HTML object>"
      ]
     },
     "metadata": {},
     "output_type": "display_data"
    },
    {
     "data": {
      "text/html": [
       "\n",
       "    <h1 style= \"padding-left: 0\"style= \"padding-left: 0\">Operational Process Monitor Patient Status - <span style=\"font-size: 10px\" > UUID: d1be5106-068e-44a3-a88e-7ae299a3a87f </span> </h1>\n",
       "    <h2>Summary</h2>\n",
       "    <p></p>\n",
       "     <h2>Description</h2>\n",
       "    <!-- Description contains preformatted HTML content -->\n",
       "    <div></div>\n",
       "    \n",
       "        <p style=\"text-align: left;\">No property values were identified.</p>\n",
       "       \n",
       "    \n",
       "        <p style=\"text-align: left;\">No property values groups were identified.</p>\n",
       "    \n",
       "    "
      ],
      "text/plain": [
       "<IPython.core.display.HTML object>"
      ]
     },
     "metadata": {},
     "output_type": "display_data"
    },
    {
     "name": "stdout",
     "output_type": "stream",
     "text": [
      "\n"
     ]
    },
    {
     "data": {
      "text/markdown": [
       "# Operational Process: Monitor Patient Status"
      ],
      "text/plain": [
       "<IPython.core.display.Markdown object>"
      ]
     },
     "metadata": {},
     "output_type": "display_data"
    },
    {
     "data": {
      "text/html": [
       "<div>\n",
       "<style scoped>\n",
       "    .dataframe tbody tr th:only-of-type {\n",
       "        vertical-align: middle;\n",
       "    }\n",
       "\n",
       "    .dataframe tbody tr th {\n",
       "        vertical-align: top;\n",
       "    }\n",
       "\n",
       "    .dataframe thead th {\n",
       "        text-align: right;\n",
       "    }\n",
       "</style>\n",
       "<table border=\"1\" class=\"dataframe\">\n",
       "  <thead>\n",
       "    <tr style=\"text-align: right;\">\n",
       "      <th></th>\n",
       "      <th>Function Owner</th>\n",
       "      <th>Function</th>\n",
       "      <th>Function Exchange</th>\n",
       "      <th>Function Exchange Items</th>\n",
       "      <th>Function Exchange Item Elements</th>\n",
       "    </tr>\n",
       "  </thead>\n",
       "  <tbody>\n",
       "    <tr>\n",
       "      <th>0</th>\n",
       "      <td>Patient</td>\n",
       "      <td>Convert Ventilator Air To Blood Oxygen</td>\n",
       "      <td>Patient Response</td>\n",
       "      <td></td>\n",
       "      <td></td>\n",
       "    </tr>\n",
       "  </tbody>\n",
       "</table>\n",
       "</div>"
      ],
      "text/plain": [
       "  Function Owner                                Function Function Exchange  \\\n",
       "0        Patient  Convert Ventilator Air To Blood Oxygen  Patient Response   \n",
       "\n",
       "  Function Exchange Items Function Exchange Item Elements  \n",
       "0                                                          "
      ]
     },
     "metadata": {},
     "output_type": "display_data"
    },
    {
     "data": {
      "text/markdown": [
       "# Operational Activites"
      ],
      "text/plain": [
       "<IPython.core.display.Markdown object>"
      ]
     },
     "metadata": {},
     "output_type": "display_data"
    },
    {
     "data": {
      "text/html": [
       "\n",
       "    <h2 style= \"padding-left: 0\"style= \"padding-left: 0\"> Convert Ventilator Air To Blood Oxygen - <span style=\"font-size: 10px\" > UUID: a16aab06-ae4a-44ab-bccc-0e4f4c8844f5 </span> </h1>\n",
       "    \n",
       "    <p><b>Owning Entity or Actor:</b>  Patient</p>\n",
       "    \n",
       "    \n",
       "        <p style=\"text-align: left;\">No property values were identified.</p>\n",
       "       \n",
       "    \n",
       "        <p style=\"text-align: left;\">No property values groups were identified.</p>\n",
       "    \n",
       "    "
      ],
      "text/plain": [
       "<IPython.core.display.HTML object>"
      ]
     },
     "metadata": {},
     "output_type": "display_data"
    },
    {
     "data": {
      "text/html": [
       "\n",
       "    <h2 style= \"padding-left: 0\"style= \"padding-left: 0\"> Monitor Operation Status - <span style=\"font-size: 10px\" > UUID: 1f6698d7-6300-4108-9c79-893347b42c3a </span> </h1>\n",
       "    \n",
       "    <p><b>Owning Entity or Actor:</b>  Patient Support Care Givers</p>\n",
       "    \n",
       "    \n",
       "        <p style=\"text-align: left;\">No property values were identified.</p>\n",
       "       \n",
       "    \n",
       "        <p style=\"text-align: left;\">No property values groups were identified.</p>\n",
       "    \n",
       "    "
      ],
      "text/plain": [
       "<IPython.core.display.HTML object>"
      ]
     },
     "metadata": {},
     "output_type": "display_data"
    },
    {
     "data": {
      "text/html": [
       "\n",
       "    <h1 style= \"padding-left: 0\"style= \"padding-left: 0\">Operational Process Establish Operating Mode - <span style=\"font-size: 10px\" > UUID: 6fd1fc84-868b-42b3-8198-0422c0b0e674 </span> </h1>\n",
       "    <h2>Summary</h2>\n",
       "    <p></p>\n",
       "     <h2>Description</h2>\n",
       "    <!-- Description contains preformatted HTML content -->\n",
       "    <div></div>\n",
       "    \n",
       "        <p style=\"text-align: left;\">No property values were identified.</p>\n",
       "       \n",
       "    \n",
       "        <p style=\"text-align: left;\">No property values groups were identified.</p>\n",
       "    \n",
       "    "
      ],
      "text/plain": [
       "<IPython.core.display.HTML object>"
      ]
     },
     "metadata": {},
     "output_type": "display_data"
    },
    {
     "name": "stdout",
     "output_type": "stream",
     "text": [
      "\n"
     ]
    },
    {
     "data": {
      "text/markdown": [
       "# Operational Process: Establish Operating Mode"
      ],
      "text/plain": [
       "<IPython.core.display.Markdown object>"
      ]
     },
     "metadata": {},
     "output_type": "display_data"
    },
    {
     "data": {
      "text/html": [
       "<div>\n",
       "<style scoped>\n",
       "    .dataframe tbody tr th:only-of-type {\n",
       "        vertical-align: middle;\n",
       "    }\n",
       "\n",
       "    .dataframe tbody tr th {\n",
       "        vertical-align: top;\n",
       "    }\n",
       "\n",
       "    .dataframe thead th {\n",
       "        text-align: right;\n",
       "    }\n",
       "</style>\n",
       "<table border=\"1\" class=\"dataframe\">\n",
       "  <thead>\n",
       "    <tr style=\"text-align: right;\">\n",
       "      <th></th>\n",
       "      <th>Function Owner</th>\n",
       "      <th>Function</th>\n",
       "      <th>Function Exchange</th>\n",
       "      <th>Function Exchange Items</th>\n",
       "      <th>Function Exchange Item Elements</th>\n",
       "    </tr>\n",
       "  </thead>\n",
       "  <tbody>\n",
       "  </tbody>\n",
       "</table>\n",
       "</div>"
      ],
      "text/plain": [
       "Empty DataFrame\n",
       "Columns: [Function Owner, Function, Function Exchange, Function Exchange Items, Function Exchange Item Elements]\n",
       "Index: []"
      ]
     },
     "metadata": {},
     "output_type": "display_data"
    },
    {
     "data": {
      "text/markdown": [
       "# Operational Activites"
      ],
      "text/plain": [
       "<IPython.core.display.Markdown object>"
      ]
     },
     "metadata": {},
     "output_type": "display_data"
    },
    {
     "data": {
      "text/html": [
       "\n",
       "    <h2 style= \"padding-left: 0\"style= \"padding-left: 0\"> Establish Operating Modes - <span style=\"font-size: 10px\" > UUID: 8bae9ec2-ef59-47bf-8c72-1502f50a8089 </span> </h1>\n",
       "    \n",
       "    <p><b>Owning Entity or Actor:</b>  Clincian In Room</p>\n",
       "    \n",
       "    \n",
       "        <p style=\"text-align: left;\">No property values were identified.</p>\n",
       "       \n",
       "    \n",
       "        <p style=\"text-align: left;\">No property values groups were identified.</p>\n",
       "    \n",
       "    "
      ],
      "text/plain": [
       "<IPython.core.display.HTML object>"
      ]
     },
     "metadata": {},
     "output_type": "display_data"
    },
    {
     "data": {
      "text/html": [
       "\n",
       "    <h1 style= \"padding-left: 0\"style= \"padding-left: 0\">Operational Process Notify Operational Issues - <span style=\"font-size: 10px\" > UUID: a66b9313-6994-4e73-9ec6-37db4a764b2b </span> </h1>\n",
       "    <h2>Summary</h2>\n",
       "    <p></p>\n",
       "     <h2>Description</h2>\n",
       "    <!-- Description contains preformatted HTML content -->\n",
       "    <div></div>\n",
       "    \n",
       "        <p style=\"text-align: left;\">No property values were identified.</p>\n",
       "       \n",
       "    \n",
       "        <p style=\"text-align: left;\">No property values groups were identified.</p>\n",
       "    \n",
       "    "
      ],
      "text/plain": [
       "<IPython.core.display.HTML object>"
      ]
     },
     "metadata": {},
     "output_type": "display_data"
    },
    {
     "name": "stdout",
     "output_type": "stream",
     "text": [
      "\n"
     ]
    },
    {
     "data": {
      "text/markdown": [
       "# Operational Process: Notify Operational Issues"
      ],
      "text/plain": [
       "<IPython.core.display.Markdown object>"
      ]
     },
     "metadata": {},
     "output_type": "display_data"
    },
    {
     "data": {
      "text/html": [
       "<div>\n",
       "<style scoped>\n",
       "    .dataframe tbody tr th:only-of-type {\n",
       "        vertical-align: middle;\n",
       "    }\n",
       "\n",
       "    .dataframe tbody tr th {\n",
       "        vertical-align: top;\n",
       "    }\n",
       "\n",
       "    .dataframe thead th {\n",
       "        text-align: right;\n",
       "    }\n",
       "</style>\n",
       "<table border=\"1\" class=\"dataframe\">\n",
       "  <thead>\n",
       "    <tr style=\"text-align: right;\">\n",
       "      <th></th>\n",
       "      <th>Function Owner</th>\n",
       "      <th>Function</th>\n",
       "      <th>Function Exchange</th>\n",
       "      <th>Function Exchange Items</th>\n",
       "      <th>Function Exchange Item Elements</th>\n",
       "    </tr>\n",
       "  </thead>\n",
       "  <tbody>\n",
       "    <tr>\n",
       "      <th>0</th>\n",
       "      <td>Patient Support Care Givers</td>\n",
       "      <td>Detect Ventilator Problems</td>\n",
       "      <td>Ventilator Status</td>\n",
       "      <td></td>\n",
       "      <td></td>\n",
       "    </tr>\n",
       "  </tbody>\n",
       "</table>\n",
       "</div>"
      ],
      "text/plain": [
       "                Function Owner                    Function  Function Exchange  \\\n",
       "0  Patient Support Care Givers  Detect Ventilator Problems  Ventilator Status   \n",
       "\n",
       "  Function Exchange Items Function Exchange Item Elements  \n",
       "0                                                          "
      ]
     },
     "metadata": {},
     "output_type": "display_data"
    },
    {
     "data": {
      "text/markdown": [
       "# Operational Activites"
      ],
      "text/plain": [
       "<IPython.core.display.Markdown object>"
      ]
     },
     "metadata": {},
     "output_type": "display_data"
    },
    {
     "data": {
      "text/html": [
       "\n",
       "    <h2 style= \"padding-left: 0\"style= \"padding-left: 0\"> Detect Ventilator Problems - <span style=\"font-size: 10px\" > UUID: d41c3323-2b4d-4de1-8162-a68ea236e942 </span> </h1>\n",
       "    \n",
       "    <p><b>Owning Entity or Actor:</b>  Patient Support Care Givers</p>\n",
       "    \n",
       "    \n",
       "        <p style=\"text-align: left;\">No property values were identified.</p>\n",
       "       \n",
       "    \n",
       "        <p style=\"text-align: left;\">No property values groups were identified.</p>\n",
       "    \n",
       "    "
      ],
      "text/plain": [
       "<IPython.core.display.HTML object>"
      ]
     },
     "metadata": {},
     "output_type": "display_data"
    },
    {
     "data": {
      "text/html": [
       "\n",
       "    <h2 style= \"padding-left: 0\"style= \"padding-left: 0\"> Repond to Ventilator Problems - <span style=\"font-size: 10px\" > UUID: df2b73f8-9661-4f7f-b0b4-b21a1b40258b </span> </h1>\n",
       "    \n",
       "    <p><b>Owning Entity or Actor:</b>  Patient Support Care Givers</p>\n",
       "    \n",
       "    \n",
       "        <p style=\"text-align: left;\">No property values were identified.</p>\n",
       "       \n",
       "    \n",
       "        <p style=\"text-align: left;\">No property values groups were identified.</p>\n",
       "    \n",
       "    "
      ],
      "text/plain": [
       "<IPython.core.display.HTML object>"
      ]
     },
     "metadata": {},
     "output_type": "display_data"
    },
    {
     "data": {
      "text/html": [
       "\n",
       "    <h1 style= \"padding-left: 0\"style= \"padding-left: 0\">Operational Process Support Hosptial Call System - <span style=\"font-size: 10px\" > UUID: f7c3e954-8d64-419b-93bd-a4300836f459 </span> </h1>\n",
       "    <h2>Summary</h2>\n",
       "    <p></p>\n",
       "     <h2>Description</h2>\n",
       "    <!-- Description contains preformatted HTML content -->\n",
       "    <div></div>\n",
       "    \n",
       "        <p style=\"text-align: left;\">No property values were identified.</p>\n",
       "       \n",
       "    \n",
       "        <p style=\"text-align: left;\">No property values groups were identified.</p>\n",
       "    \n",
       "    "
      ],
      "text/plain": [
       "<IPython.core.display.HTML object>"
      ]
     },
     "metadata": {},
     "output_type": "display_data"
    },
    {
     "name": "stdout",
     "output_type": "stream",
     "text": [
      "\n"
     ]
    },
    {
     "data": {
      "text/markdown": [
       "# Operational Process: Support Hosptial Call System"
      ],
      "text/plain": [
       "<IPython.core.display.Markdown object>"
      ]
     },
     "metadata": {},
     "output_type": "display_data"
    },
    {
     "data": {
      "text/html": [
       "<div>\n",
       "<style scoped>\n",
       "    .dataframe tbody tr th:only-of-type {\n",
       "        vertical-align: middle;\n",
       "    }\n",
       "\n",
       "    .dataframe tbody tr th {\n",
       "        vertical-align: top;\n",
       "    }\n",
       "\n",
       "    .dataframe thead th {\n",
       "        text-align: right;\n",
       "    }\n",
       "</style>\n",
       "<table border=\"1\" class=\"dataframe\">\n",
       "  <thead>\n",
       "    <tr style=\"text-align: right;\">\n",
       "      <th></th>\n",
       "      <th>Function Owner</th>\n",
       "      <th>Function</th>\n",
       "      <th>Function Exchange</th>\n",
       "      <th>Function Exchange Items</th>\n",
       "      <th>Function Exchange Item Elements</th>\n",
       "    </tr>\n",
       "  </thead>\n",
       "  <tbody>\n",
       "    <tr>\n",
       "      <th>0</th>\n",
       "      <td>Hospital Floor</td>\n",
       "      <td>Accept Patient Calls</td>\n",
       "      <td>Call</td>\n",
       "      <td></td>\n",
       "      <td></td>\n",
       "    </tr>\n",
       "    <tr>\n",
       "      <th>1</th>\n",
       "      <td>Patient</td>\n",
       "      <td>Patient Call</td>\n",
       "      <td>Patient Call</td>\n",
       "      <td></td>\n",
       "      <td></td>\n",
       "    </tr>\n",
       "  </tbody>\n",
       "</table>\n",
       "</div>"
      ],
      "text/plain": [
       "   Function Owner               Function Function Exchange  \\\n",
       "0  Hospital Floor  Accept Patient Calls               Call   \n",
       "1         Patient           Patient Call      Patient Call   \n",
       "\n",
       "  Function Exchange Items Function Exchange Item Elements  \n",
       "0                                                          \n",
       "1                                                          "
      ]
     },
     "metadata": {},
     "output_type": "display_data"
    },
    {
     "data": {
      "text/markdown": [
       "# Operational Activites"
      ],
      "text/plain": [
       "<IPython.core.display.Markdown object>"
      ]
     },
     "metadata": {},
     "output_type": "display_data"
    },
    {
     "data": {
      "text/html": [
       "\n",
       "    <h2 style= \"padding-left: 0\"style= \"padding-left: 0\"> Accept Patient Calls  - <span style=\"font-size: 10px\" > UUID: 00ce3efe-7ec3-446f-9a37-dc3b97c7a44d </span> </h1>\n",
       "    \n",
       "    <p><b>Owning Entity or Actor:</b>  Hospital Floor</p>\n",
       "    \n",
       "    \n",
       "        <p style=\"text-align: left;\">No property values were identified.</p>\n",
       "       \n",
       "    \n",
       "        <p style=\"text-align: left;\">No property values groups were identified.</p>\n",
       "    \n",
       "    "
      ],
      "text/plain": [
       "<IPython.core.display.HTML object>"
      ]
     },
     "metadata": {},
     "output_type": "display_data"
    },
    {
     "data": {
      "text/html": [
       "\n",
       "    <h2 style= \"padding-left: 0\"style= \"padding-left: 0\"> Patient Call - <span style=\"font-size: 10px\" > UUID: f08c7c85-5d53-4798-b4e6-e46b66f0e5c2 </span> </h1>\n",
       "    \n",
       "    <p><b>Owning Entity or Actor:</b>  Patient</p>\n",
       "    \n",
       "    \n",
       "        <p style=\"text-align: left;\">No property values were identified.</p>\n",
       "       \n",
       "    \n",
       "        <p style=\"text-align: left;\">No property values groups were identified.</p>\n",
       "    \n",
       "    "
      ],
      "text/plain": [
       "<IPython.core.display.HTML object>"
      ]
     },
     "metadata": {},
     "output_type": "display_data"
    },
    {
     "data": {
      "text/html": [
       "\n",
       "    <h2 style= \"padding-left: 0\"style= \"padding-left: 0\"> Respond to Patient Calls  - <span style=\"font-size: 10px\" > UUID: 0754d233-487d-42d1-b3b3-d3592d0a2164 </span> </h1>\n",
       "    \n",
       "    <p><b>Owning Entity or Actor:</b>  Repiratory Therapist</p>\n",
       "    \n",
       "    \n",
       "        <p style=\"text-align: left;\">No property values were identified.</p>\n",
       "       \n",
       "    \n",
       "        <p style=\"text-align: left;\">No property values groups were identified.</p>\n",
       "    \n",
       "    "
      ],
      "text/plain": [
       "<IPython.core.display.HTML object>"
      ]
     },
     "metadata": {},
     "output_type": "display_data"
    },
    {
     "data": {
      "text/html": [
       "\n",
       "    <h1 style= \"padding-left: 0\"style= \"padding-left: 0\">Operational Process Supply Ventilator - <span style=\"font-size: 10px\" > UUID: e3689d84-d89e-4099-8d17-059593f2b5d2 </span> </h1>\n",
       "    <h2>Summary</h2>\n",
       "    <p></p>\n",
       "     <h2>Description</h2>\n",
       "    <!-- Description contains preformatted HTML content -->\n",
       "    <div></div>\n",
       "    \n",
       "        <p style=\"text-align: left;\">No property values were identified.</p>\n",
       "       \n",
       "    \n",
       "        <p style=\"text-align: left;\">No property values groups were identified.</p>\n",
       "    \n",
       "    "
      ],
      "text/plain": [
       "<IPython.core.display.HTML object>"
      ]
     },
     "metadata": {},
     "output_type": "display_data"
    },
    {
     "name": "stdout",
     "output_type": "stream",
     "text": [
      "\n"
     ]
    },
    {
     "data": {
      "text/markdown": [
       "# Operational Process: Supply Ventilator"
      ],
      "text/plain": [
       "<IPython.core.display.Markdown object>"
      ]
     },
     "metadata": {},
     "output_type": "display_data"
    },
    {
     "data": {
      "text/html": [
       "<div>\n",
       "<style scoped>\n",
       "    .dataframe tbody tr th:only-of-type {\n",
       "        vertical-align: middle;\n",
       "    }\n",
       "\n",
       "    .dataframe tbody tr th {\n",
       "        vertical-align: top;\n",
       "    }\n",
       "\n",
       "    .dataframe thead th {\n",
       "        text-align: right;\n",
       "    }\n",
       "</style>\n",
       "<table border=\"1\" class=\"dataframe\">\n",
       "  <thead>\n",
       "    <tr style=\"text-align: right;\">\n",
       "      <th></th>\n",
       "      <th>Function Owner</th>\n",
       "      <th>Function</th>\n",
       "      <th>Function Exchange</th>\n",
       "      <th>Function Exchange Items</th>\n",
       "      <th>Function Exchange Item Elements</th>\n",
       "    </tr>\n",
       "  </thead>\n",
       "  <tbody>\n",
       "    <tr>\n",
       "      <th>0</th>\n",
       "      <td>Hospital System</td>\n",
       "      <td>Order Ventilator</td>\n",
       "      <td>Order</td>\n",
       "      <td></td>\n",
       "      <td></td>\n",
       "    </tr>\n",
       "    <tr>\n",
       "      <th>1</th>\n",
       "      <td>Hospital System</td>\n",
       "      <td>Order Ventilator</td>\n",
       "      <td>Ventilator</td>\n",
       "      <td></td>\n",
       "      <td></td>\n",
       "    </tr>\n",
       "    <tr>\n",
       "      <th>2</th>\n",
       "      <td>Ventilator Distributor</td>\n",
       "      <td>Replenish Ventilator</td>\n",
       "      <td>Order</td>\n",
       "      <td></td>\n",
       "      <td></td>\n",
       "    </tr>\n",
       "    <tr>\n",
       "      <th>3</th>\n",
       "      <td>Patient Support Care Givers</td>\n",
       "      <td>Purchase Ventilator</td>\n",
       "      <td>Purchase</td>\n",
       "      <td></td>\n",
       "      <td></td>\n",
       "    </tr>\n",
       "  </tbody>\n",
       "</table>\n",
       "</div>"
      ],
      "text/plain": [
       "                Function Owner              Function Function Exchange  \\\n",
       "0              Hospital System      Order Ventilator             Order   \n",
       "1              Hospital System      Order Ventilator        Ventilator   \n",
       "2       Ventilator Distributor  Replenish Ventilator             Order   \n",
       "3  Patient Support Care Givers   Purchase Ventilator          Purchase   \n",
       "\n",
       "  Function Exchange Items Function Exchange Item Elements  \n",
       "0                                                          \n",
       "1                                                          \n",
       "2                                                          \n",
       "3                                                          "
      ]
     },
     "metadata": {},
     "output_type": "display_data"
    },
    {
     "data": {
      "text/markdown": [
       "# Operational Activites"
      ],
      "text/plain": [
       "<IPython.core.display.Markdown object>"
      ]
     },
     "metadata": {},
     "output_type": "display_data"
    },
    {
     "data": {
      "text/html": [
       "\n",
       "    <h2 style= \"padding-left: 0\"style= \"padding-left: 0\"> Order Ventilator - <span style=\"font-size: 10px\" > UUID: bb7a4a58-0ac5-49ec-b39d-8d68f101f5e5 </span> </h1>\n",
       "    \n",
       "    <p><b>Owning Entity or Actor:</b>  Hospital System</p>\n",
       "    \n",
       "    \n",
       "        <p style=\"text-align: left;\">No property values were identified.</p>\n",
       "       \n",
       "    \n",
       "        <p style=\"text-align: left;\">No property values groups were identified.</p>\n",
       "    \n",
       "    "
      ],
      "text/plain": [
       "<IPython.core.display.HTML object>"
      ]
     },
     "metadata": {},
     "output_type": "display_data"
    },
    {
     "data": {
      "text/html": [
       "\n",
       "    <h2 style= \"padding-left: 0\"style= \"padding-left: 0\"> Purchase Ventilator - <span style=\"font-size: 10px\" > UUID: 63bcc0ba-5714-4a1b-8247-cfbf684a8d89 </span> </h1>\n",
       "    \n",
       "    <p><b>Owning Entity or Actor:</b>  Patient Support Care Givers</p>\n",
       "    \n",
       "    \n",
       "        <p style=\"text-align: left;\">No property values were identified.</p>\n",
       "       \n",
       "    \n",
       "        <p style=\"text-align: left;\">No property values groups were identified.</p>\n",
       "    \n",
       "    "
      ],
      "text/plain": [
       "<IPython.core.display.HTML object>"
      ]
     },
     "metadata": {},
     "output_type": "display_data"
    },
    {
     "data": {
      "text/html": [
       "\n",
       "    <h2 style= \"padding-left: 0\"style= \"padding-left: 0\"> Receive Ventilator - <span style=\"font-size: 10px\" > UUID: 335b2f44-01e4-4e83-910d-13fe890af0f8 </span> </h1>\n",
       "    \n",
       "    <p><b>Owning Entity or Actor:</b>  Clincian In Room</p>\n",
       "    \n",
       "    \n",
       "        <p style=\"text-align: left;\">No property values were identified.</p>\n",
       "       \n",
       "    \n",
       "        <p style=\"text-align: left;\">No property values groups were identified.</p>\n",
       "    \n",
       "    "
      ],
      "text/plain": [
       "<IPython.core.display.HTML object>"
      ]
     },
     "metadata": {},
     "output_type": "display_data"
    },
    {
     "data": {
      "text/html": [
       "\n",
       "    <h2 style= \"padding-left: 0\"style= \"padding-left: 0\"> Replenish Ventilator - <span style=\"font-size: 10px\" > UUID: 150550cd-8959-48cf-8b02-1bd72d07d831 </span> </h1>\n",
       "    \n",
       "    <p><b>Owning Entity or Actor:</b>  Ventilator Distributor</p>\n",
       "    \n",
       "    \n",
       "        <p style=\"text-align: left;\">No property values were identified.</p>\n",
       "       \n",
       "    \n",
       "        <p style=\"text-align: left;\">No property values groups were identified.</p>\n",
       "    \n",
       "    "
      ],
      "text/plain": [
       "<IPython.core.display.HTML object>"
      ]
     },
     "metadata": {},
     "output_type": "display_data"
    },
    {
     "data": {
      "text/html": [
       "\n",
       "    <h2 style= \"padding-left: 0\"style= \"padding-left: 0\"> Supply Ventilator - <span style=\"font-size: 10px\" > UUID: 283e34d7-de74-4bb2-8a92-31087c91b58a </span> </h1>\n",
       "    \n",
       "    <p><b>Owning Entity or Actor:</b>  Ventilator Manufacturer</p>\n",
       "    \n",
       "    \n",
       "        <p style=\"text-align: left;\">No property values were identified.</p>\n",
       "       \n",
       "    \n",
       "        <p style=\"text-align: left;\">No property values groups were identified.</p>\n",
       "    \n",
       "    "
      ],
      "text/plain": [
       "<IPython.core.display.HTML object>"
      ]
     },
     "metadata": {},
     "output_type": "display_data"
    },
    {
     "data": {
      "text/html": [
       "\n",
       "    <h1 style= \"padding-left: 0\"style= \"padding-left: 0\">Operational Process Supply Circuit - <span style=\"font-size: 10px\" > UUID: 0f55c2f2-4dee-497d-a3f2-c8d211f04634 </span> </h1>\n",
       "    <h2>Summary</h2>\n",
       "    <p></p>\n",
       "     <h2>Description</h2>\n",
       "    <!-- Description contains preformatted HTML content -->\n",
       "    <div></div>\n",
       "    \n",
       "        <p style=\"text-align: left;\">No property values were identified.</p>\n",
       "       \n",
       "    \n",
       "        <p style=\"text-align: left;\">No property values groups were identified.</p>\n",
       "    \n",
       "    "
      ],
      "text/plain": [
       "<IPython.core.display.HTML object>"
      ]
     },
     "metadata": {},
     "output_type": "display_data"
    },
    {
     "name": "stdout",
     "output_type": "stream",
     "text": [
      "\n"
     ]
    },
    {
     "data": {
      "text/markdown": [
       "# Operational Process: Supply Circuit"
      ],
      "text/plain": [
       "<IPython.core.display.Markdown object>"
      ]
     },
     "metadata": {},
     "output_type": "display_data"
    },
    {
     "data": {
      "text/html": [
       "<div>\n",
       "<style scoped>\n",
       "    .dataframe tbody tr th:only-of-type {\n",
       "        vertical-align: middle;\n",
       "    }\n",
       "\n",
       "    .dataframe tbody tr th {\n",
       "        vertical-align: top;\n",
       "    }\n",
       "\n",
       "    .dataframe thead th {\n",
       "        text-align: right;\n",
       "    }\n",
       "</style>\n",
       "<table border=\"1\" class=\"dataframe\">\n",
       "  <thead>\n",
       "    <tr style=\"text-align: right;\">\n",
       "      <th></th>\n",
       "      <th>Function Owner</th>\n",
       "      <th>Function</th>\n",
       "      <th>Function Exchange</th>\n",
       "      <th>Function Exchange Items</th>\n",
       "      <th>Function Exchange Item Elements</th>\n",
       "    </tr>\n",
       "  </thead>\n",
       "  <tbody>\n",
       "    <tr>\n",
       "      <th>0</th>\n",
       "      <td>Ventilator Distributor</td>\n",
       "      <td>Replenish Circuit</td>\n",
       "      <td>Circuit</td>\n",
       "      <td></td>\n",
       "      <td></td>\n",
       "    </tr>\n",
       "    <tr>\n",
       "      <th>1</th>\n",
       "      <td>Hospital System</td>\n",
       "      <td>Order Circuit</td>\n",
       "      <td>Order</td>\n",
       "      <td></td>\n",
       "      <td></td>\n",
       "    </tr>\n",
       "    <tr>\n",
       "      <th>2</th>\n",
       "      <td>Hospital System</td>\n",
       "      <td>Order Circuit</td>\n",
       "      <td>Circuit</td>\n",
       "      <td></td>\n",
       "      <td></td>\n",
       "    </tr>\n",
       "    <tr>\n",
       "      <th>3</th>\n",
       "      <td>Patient Support Care Givers</td>\n",
       "      <td>Purchase Circuit</td>\n",
       "      <td>Circuit</td>\n",
       "      <td></td>\n",
       "      <td></td>\n",
       "    </tr>\n",
       "  </tbody>\n",
       "</table>\n",
       "</div>"
      ],
      "text/plain": [
       "                Function Owner           Function Function Exchange  \\\n",
       "0       Ventilator Distributor  Replenish Circuit           Circuit   \n",
       "1              Hospital System      Order Circuit             Order   \n",
       "2              Hospital System      Order Circuit           Circuit   \n",
       "3  Patient Support Care Givers   Purchase Circuit           Circuit   \n",
       "\n",
       "  Function Exchange Items Function Exchange Item Elements  \n",
       "0                                                          \n",
       "1                                                          \n",
       "2                                                          \n",
       "3                                                          "
      ]
     },
     "metadata": {},
     "output_type": "display_data"
    },
    {
     "data": {
      "text/markdown": [
       "# Operational Activites"
      ],
      "text/plain": [
       "<IPython.core.display.Markdown object>"
      ]
     },
     "metadata": {},
     "output_type": "display_data"
    },
    {
     "data": {
      "text/html": [
       "\n",
       "    <h2 style= \"padding-left: 0\"style= \"padding-left: 0\"> Order Circuit - <span style=\"font-size: 10px\" > UUID: b8d2cc2d-56ef-41f5-99a0-2a3427c61bee </span> </h1>\n",
       "    \n",
       "    <p><b>Owning Entity or Actor:</b>  Hospital System</p>\n",
       "    \n",
       "    \n",
       "        <p style=\"text-align: left;\">No property values were identified.</p>\n",
       "       \n",
       "    \n",
       "        <p style=\"text-align: left;\">No property values groups were identified.</p>\n",
       "    \n",
       "    "
      ],
      "text/plain": [
       "<IPython.core.display.HTML object>"
      ]
     },
     "metadata": {},
     "output_type": "display_data"
    },
    {
     "data": {
      "text/html": [
       "\n",
       "    <h2 style= \"padding-left: 0\"style= \"padding-left: 0\"> Purchase Circuit - <span style=\"font-size: 10px\" > UUID: f0842502-6ec2-476e-b1b1-466dd39466f1 </span> </h1>\n",
       "    \n",
       "    <p><b>Owning Entity or Actor:</b>  Patient Support Care Givers</p>\n",
       "    \n",
       "    \n",
       "        <p style=\"text-align: left;\">No property values were identified.</p>\n",
       "       \n",
       "    \n",
       "        <p style=\"text-align: left;\">No property values groups were identified.</p>\n",
       "    \n",
       "    "
      ],
      "text/plain": [
       "<IPython.core.display.HTML object>"
      ]
     },
     "metadata": {},
     "output_type": "display_data"
    },
    {
     "data": {
      "text/html": [
       "\n",
       "    <h2 style= \"padding-left: 0\"style= \"padding-left: 0\"> Recieve Circuit - <span style=\"font-size: 10px\" > UUID: acb7de64-693b-4c74-865d-b44c3d44a505 </span> </h1>\n",
       "    \n",
       "    <p><b>Owning Entity or Actor:</b>  Clincian In Room</p>\n",
       "    \n",
       "    \n",
       "        <p style=\"text-align: left;\">No property values were identified.</p>\n",
       "       \n",
       "    \n",
       "        <p style=\"text-align: left;\">No property values groups were identified.</p>\n",
       "    \n",
       "    "
      ],
      "text/plain": [
       "<IPython.core.display.HTML object>"
      ]
     },
     "metadata": {},
     "output_type": "display_data"
    },
    {
     "data": {
      "text/html": [
       "\n",
       "    <h2 style= \"padding-left: 0\"style= \"padding-left: 0\"> Replenish Circuit - <span style=\"font-size: 10px\" > UUID: 98a9f57b-b5b6-477f-90e1-348e3f05b352 </span> </h1>\n",
       "    \n",
       "    <p><b>Owning Entity or Actor:</b>  Ventilator Distributor</p>\n",
       "    \n",
       "    \n",
       "        <p style=\"text-align: left;\">No property values were identified.</p>\n",
       "       \n",
       "    \n",
       "        <p style=\"text-align: left;\">No property values groups were identified.</p>\n",
       "    \n",
       "    "
      ],
      "text/plain": [
       "<IPython.core.display.HTML object>"
      ]
     },
     "metadata": {},
     "output_type": "display_data"
    },
    {
     "data": {
      "text/html": [
       "\n",
       "    <h2 style= \"padding-left: 0\"style= \"padding-left: 0\"> Suppy Circuit - <span style=\"font-size: 10px\" > UUID: 9dadfe4c-4161-43d2-9de3-d7c796d47013 </span> </h1>\n",
       "    \n",
       "    <p><b>Owning Entity or Actor:</b>  Ventilator Manufacturer</p>\n",
       "    \n",
       "    \n",
       "        <p style=\"text-align: left;\">No property values were identified.</p>\n",
       "       \n",
       "    \n",
       "        <p style=\"text-align: left;\">No property values groups were identified.</p>\n",
       "    \n",
       "    "
      ],
      "text/plain": [
       "<IPython.core.display.HTML object>"
      ]
     },
     "metadata": {},
     "output_type": "display_data"
    },
    {
     "data": {
      "text/html": [
       "\n",
       "    <h1 style= \"padding-left: 0\"style= \"padding-left: 0\">Operational Process Deliver Ventilation - <span style=\"font-size: 10px\" > UUID: 49442ef5-a3d0-4d7e-a43c-838de5d9c128 </span> </h1>\n",
       "    <h2>Summary</h2>\n",
       "    <p></p>\n",
       "     <h2>Description</h2>\n",
       "    <!-- Description contains preformatted HTML content -->\n",
       "    <div></div>\n",
       "    \n",
       "        <p style=\"text-align: left;\">No property values were identified.</p>\n",
       "       \n",
       "    \n",
       "        <p style=\"text-align: left;\">No property values groups were identified.</p>\n",
       "    \n",
       "    "
      ],
      "text/plain": [
       "<IPython.core.display.HTML object>"
      ]
     },
     "metadata": {},
     "output_type": "display_data"
    },
    {
     "name": "stdout",
     "output_type": "stream",
     "text": [
      "\n"
     ]
    },
    {
     "data": {
      "text/markdown": [
       "# Operational Process: Deliver Ventilation"
      ],
      "text/plain": [
       "<IPython.core.display.Markdown object>"
      ]
     },
     "metadata": {},
     "output_type": "display_data"
    },
    {
     "data": {
      "text/html": [
       "<div>\n",
       "<style scoped>\n",
       "    .dataframe tbody tr th:only-of-type {\n",
       "        vertical-align: middle;\n",
       "    }\n",
       "\n",
       "    .dataframe tbody tr th {\n",
       "        vertical-align: top;\n",
       "    }\n",
       "\n",
       "    .dataframe thead th {\n",
       "        text-align: right;\n",
       "    }\n",
       "</style>\n",
       "<table border=\"1\" class=\"dataframe\">\n",
       "  <thead>\n",
       "    <tr style=\"text-align: right;\">\n",
       "      <th></th>\n",
       "      <th>Function Owner</th>\n",
       "      <th>Function</th>\n",
       "      <th>Function Exchange</th>\n",
       "      <th>Function Exchange Items</th>\n",
       "      <th>Function Exchange Item Elements</th>\n",
       "    </tr>\n",
       "  </thead>\n",
       "  <tbody>\n",
       "    <tr>\n",
       "      <th>0</th>\n",
       "      <td>Clincian In Room</td>\n",
       "      <td>Deliver Ventilation to Patient</td>\n",
       "      <td>Ventilation</td>\n",
       "      <td></td>\n",
       "      <td></td>\n",
       "    </tr>\n",
       "    <tr>\n",
       "      <th>1</th>\n",
       "      <td>Clincian In Room</td>\n",
       "      <td>Connect to Patient</td>\n",
       "      <td>Mode</td>\n",
       "      <td></td>\n",
       "      <td></td>\n",
       "    </tr>\n",
       "    <tr>\n",
       "      <th>2</th>\n",
       "      <td>Patient</td>\n",
       "      <td>Convert Ventilator Air To Blood Oxygen</td>\n",
       "      <td>Patient Response</td>\n",
       "      <td></td>\n",
       "      <td></td>\n",
       "    </tr>\n",
       "    <tr>\n",
       "      <th>3</th>\n",
       "      <td>Patient</td>\n",
       "      <td>Convert Ventilator Air To Blood Oxygen</td>\n",
       "      <td>Patient Vitals</td>\n",
       "      <td></td>\n",
       "      <td></td>\n",
       "    </tr>\n",
       "  </tbody>\n",
       "</table>\n",
       "</div>"
      ],
      "text/plain": [
       "     Function Owner                                Function Function Exchange  \\\n",
       "0  Clincian In Room          Deliver Ventilation to Patient       Ventilation   \n",
       "1  Clincian In Room                      Connect to Patient              Mode   \n",
       "2           Patient  Convert Ventilator Air To Blood Oxygen  Patient Response   \n",
       "3           Patient  Convert Ventilator Air To Blood Oxygen    Patient Vitals   \n",
       "\n",
       "  Function Exchange Items Function Exchange Item Elements  \n",
       "0                                                          \n",
       "1                                                          \n",
       "2                                                          \n",
       "3                                                          "
      ]
     },
     "metadata": {},
     "output_type": "display_data"
    },
    {
     "data": {
      "text/markdown": [
       "# Operational Activites"
      ],
      "text/plain": [
       "<IPython.core.display.Markdown object>"
      ]
     },
     "metadata": {},
     "output_type": "display_data"
    },
    {
     "data": {
      "text/html": [
       "\n",
       "    <h2 style= \"padding-left: 0\"style= \"padding-left: 0\"> Connect to Patient - <span style=\"font-size: 10px\" > UUID: b5bfc7cd-4042-4944-8a4b-969b83abc021 </span> </h1>\n",
       "    \n",
       "    <p><b>Owning Entity or Actor:</b>  Clincian In Room</p>\n",
       "    \n",
       "    \n",
       "        <p style=\"text-align: left;\">No property values were identified.</p>\n",
       "       \n",
       "    \n",
       "        <p style=\"text-align: left;\">No property values groups were identified.</p>\n",
       "    \n",
       "    "
      ],
      "text/plain": [
       "<IPython.core.display.HTML object>"
      ]
     },
     "metadata": {},
     "output_type": "display_data"
    },
    {
     "data": {
      "text/html": [
       "\n",
       "    <h2 style= \"padding-left: 0\"style= \"padding-left: 0\"> Convert Ventilator Air To Blood Oxygen - <span style=\"font-size: 10px\" > UUID: a16aab06-ae4a-44ab-bccc-0e4f4c8844f5 </span> </h1>\n",
       "    \n",
       "    <p><b>Owning Entity or Actor:</b>  Patient</p>\n",
       "    \n",
       "    \n",
       "        <p style=\"text-align: left;\">No property values were identified.</p>\n",
       "       \n",
       "    \n",
       "        <p style=\"text-align: left;\">No property values groups were identified.</p>\n",
       "    \n",
       "    "
      ],
      "text/plain": [
       "<IPython.core.display.HTML object>"
      ]
     },
     "metadata": {},
     "output_type": "display_data"
    },
    {
     "data": {
      "text/html": [
       "\n",
       "    <h2 style= \"padding-left: 0\"style= \"padding-left: 0\"> Deliver Ventilation to Patient - <span style=\"font-size: 10px\" > UUID: 23510f6c-c5bc-4ce9-83da-535f69737372 </span> </h1>\n",
       "    \n",
       "    <p><b>Owning Entity or Actor:</b>  Clincian In Room</p>\n",
       "    \n",
       "    \n",
       "        <p style=\"text-align: left;\">No property values were identified.</p>\n",
       "       \n",
       "    \n",
       "        <p style=\"text-align: left;\">No property values groups were identified.</p>\n",
       "    \n",
       "    "
      ],
      "text/plain": [
       "<IPython.core.display.HTML object>"
      ]
     },
     "metadata": {},
     "output_type": "display_data"
    },
    {
     "data": {
      "text/html": [
       "\n",
       "    <h2 style= \"padding-left: 0\"style= \"padding-left: 0\"> Monitor Patient Respiration - <span style=\"font-size: 10px\" > UUID: 87b76b4a-03f0-4237-bc90-da97ac7e09de </span> </h1>\n",
       "    \n",
       "    <p><b>Owning Entity or Actor:</b>  Clincian In Room</p>\n",
       "    \n",
       "    \n",
       "        <p style=\"text-align: left;\">No property values were identified.</p>\n",
       "       \n",
       "    \n",
       "        <p style=\"text-align: left;\">No property values groups were identified.</p>\n",
       "    \n",
       "    "
      ],
      "text/plain": [
       "<IPython.core.display.HTML object>"
      ]
     },
     "metadata": {},
     "output_type": "display_data"
    },
    {
     "data": {
      "text/html": [
       "\n",
       "    <h2 style= \"padding-left: 0\"style= \"padding-left: 0\"> Monitor Patient Vitals - <span style=\"font-size: 10px\" > UUID: 552519b5-92a8-4ff4-a542-dfc0c84147b8 </span> </h1>\n",
       "    \n",
       "    <p><b>Owning Entity or Actor:</b>  Clincian In Room</p>\n",
       "    \n",
       "    \n",
       "        <p style=\"text-align: left;\">No property values were identified.</p>\n",
       "       \n",
       "    \n",
       "        <p style=\"text-align: left;\">No property values groups were identified.</p>\n",
       "    \n",
       "    "
      ],
      "text/plain": [
       "<IPython.core.display.HTML object>"
      ]
     },
     "metadata": {},
     "output_type": "display_data"
    },
    {
     "data": {
      "text/html": [
       "\n",
       "    <h1 style= \"padding-left: 0\"style= \"padding-left: 0\">Operational Process Adjust Settings - <span style=\"font-size: 10px\" > UUID: b2aaa8b8-cad6-40f7-a3a9-90b28caead75 </span> </h1>\n",
       "    <h2>Summary</h2>\n",
       "    <p></p>\n",
       "     <h2>Description</h2>\n",
       "    <!-- Description contains preformatted HTML content -->\n",
       "    <div></div>\n",
       "    \n",
       "        <p style=\"text-align: left;\">No property values were identified.</p>\n",
       "       \n",
       "    \n",
       "        <p style=\"text-align: left;\">No property values groups were identified.</p>\n",
       "    \n",
       "    "
      ],
      "text/plain": [
       "<IPython.core.display.HTML object>"
      ]
     },
     "metadata": {},
     "output_type": "display_data"
    },
    {
     "name": "stdout",
     "output_type": "stream",
     "text": [
      "\n"
     ]
    },
    {
     "data": {
      "text/markdown": [
       "# Operational Process: Adjust Settings"
      ],
      "text/plain": [
       "<IPython.core.display.Markdown object>"
      ]
     },
     "metadata": {},
     "output_type": "display_data"
    },
    {
     "data": {
      "text/html": [
       "<div>\n",
       "<style scoped>\n",
       "    .dataframe tbody tr th:only-of-type {\n",
       "        vertical-align: middle;\n",
       "    }\n",
       "\n",
       "    .dataframe tbody tr th {\n",
       "        vertical-align: top;\n",
       "    }\n",
       "\n",
       "    .dataframe thead th {\n",
       "        text-align: right;\n",
       "    }\n",
       "</style>\n",
       "<table border=\"1\" class=\"dataframe\">\n",
       "  <thead>\n",
       "    <tr style=\"text-align: right;\">\n",
       "      <th></th>\n",
       "      <th>Function Owner</th>\n",
       "      <th>Function</th>\n",
       "      <th>Function Exchange</th>\n",
       "      <th>Function Exchange Items</th>\n",
       "      <th>Function Exchange Item Elements</th>\n",
       "    </tr>\n",
       "  </thead>\n",
       "  <tbody>\n",
       "    <tr>\n",
       "      <th>0</th>\n",
       "      <td>Repiratory Therapist</td>\n",
       "      <td>Put on PPE</td>\n",
       "      <td>Adjust Settings</td>\n",
       "      <td></td>\n",
       "      <td></td>\n",
       "    </tr>\n",
       "    <tr>\n",
       "      <th>1</th>\n",
       "      <td>Repiratory Therapist</td>\n",
       "      <td>Review Patient Vitals</td>\n",
       "      <td>Settings</td>\n",
       "      <td></td>\n",
       "      <td></td>\n",
       "    </tr>\n",
       "    <tr>\n",
       "      <th>2</th>\n",
       "      <td>Clincian In Room</td>\n",
       "      <td>Adjust Ventilation Settings</td>\n",
       "      <td>Adjusted Settings</td>\n",
       "      <td></td>\n",
       "      <td></td>\n",
       "    </tr>\n",
       "    <tr>\n",
       "      <th>3</th>\n",
       "      <td>Clincian In Room</td>\n",
       "      <td>Adjust Ventilation Settings</td>\n",
       "      <td>Read Status</td>\n",
       "      <td></td>\n",
       "      <td></td>\n",
       "    </tr>\n",
       "    <tr>\n",
       "      <th>4</th>\n",
       "      <td>Clincian In Room</td>\n",
       "      <td>Monitor Patient Respiration</td>\n",
       "      <td>Gather Status</td>\n",
       "      <td></td>\n",
       "      <td></td>\n",
       "    </tr>\n",
       "  </tbody>\n",
       "</table>\n",
       "</div>"
      ],
      "text/plain": [
       "         Function Owner                     Function  Function Exchange  \\\n",
       "0  Repiratory Therapist                   Put on PPE    Adjust Settings   \n",
       "1  Repiratory Therapist        Review Patient Vitals           Settings   \n",
       "2      Clincian In Room  Adjust Ventilation Settings  Adjusted Settings   \n",
       "3      Clincian In Room  Adjust Ventilation Settings        Read Status   \n",
       "4      Clincian In Room  Monitor Patient Respiration      Gather Status   \n",
       "\n",
       "  Function Exchange Items Function Exchange Item Elements  \n",
       "0                                                          \n",
       "1                                                          \n",
       "2                                                          \n",
       "3                                                          \n",
       "4                                                          "
      ]
     },
     "metadata": {},
     "output_type": "display_data"
    },
    {
     "data": {
      "text/markdown": [
       "# Operational Activites"
      ],
      "text/plain": [
       "<IPython.core.display.Markdown object>"
      ]
     },
     "metadata": {},
     "output_type": "display_data"
    },
    {
     "data": {
      "text/html": [
       "\n",
       "    <h2 style= \"padding-left: 0\"style= \"padding-left: 0\"> Adjust Ventilation Settings - <span style=\"font-size: 10px\" > UUID: d541ccd5-1ca8-4a2a-a48e-a2203658bcaf </span> </h1>\n",
       "    \n",
       "    <p><b>Owning Entity or Actor:</b>  Clincian In Room</p>\n",
       "    \n",
       "    \n",
       "        <p style=\"text-align: left;\">No property values were identified.</p>\n",
       "       \n",
       "    \n",
       "        <p style=\"text-align: left;\">No property values groups were identified.</p>\n",
       "    \n",
       "    "
      ],
      "text/plain": [
       "<IPython.core.display.HTML object>"
      ]
     },
     "metadata": {},
     "output_type": "display_data"
    },
    {
     "data": {
      "text/html": [
       "\n",
       "    <h2 style= \"padding-left: 0\"style= \"padding-left: 0\"> Convert Ventilator Air To Blood Oxygen - <span style=\"font-size: 10px\" > UUID: a16aab06-ae4a-44ab-bccc-0e4f4c8844f5 </span> </h1>\n",
       "    \n",
       "    <p><b>Owning Entity or Actor:</b>  Patient</p>\n",
       "    \n",
       "    \n",
       "        <p style=\"text-align: left;\">No property values were identified.</p>\n",
       "       \n",
       "    \n",
       "        <p style=\"text-align: left;\">No property values groups were identified.</p>\n",
       "    \n",
       "    "
      ],
      "text/plain": [
       "<IPython.core.display.HTML object>"
      ]
     },
     "metadata": {},
     "output_type": "display_data"
    },
    {
     "data": {
      "text/html": [
       "\n",
       "    <h2 style= \"padding-left: 0\"style= \"padding-left: 0\"> Disposee PPE - <span style=\"font-size: 10px\" > UUID: 4b699ed7-24f0-4e29-84f9-f514528ada27 </span> </h1>\n",
       "    \n",
       "    <p><b>Owning Entity or Actor:</b>  Repiratory Therapist</p>\n",
       "    \n",
       "    \n",
       "        <p style=\"text-align: left;\">No property values were identified.</p>\n",
       "       \n",
       "    \n",
       "        <p style=\"text-align: left;\">No property values groups were identified.</p>\n",
       "    \n",
       "    "
      ],
      "text/plain": [
       "<IPython.core.display.HTML object>"
      ]
     },
     "metadata": {},
     "output_type": "display_data"
    },
    {
     "data": {
      "text/html": [
       "\n",
       "    <h2 style= \"padding-left: 0\"style= \"padding-left: 0\"> Monitor Patient Respiration - <span style=\"font-size: 10px\" > UUID: 87b76b4a-03f0-4237-bc90-da97ac7e09de </span> </h1>\n",
       "    \n",
       "    <p><b>Owning Entity or Actor:</b>  Clincian In Room</p>\n",
       "    \n",
       "    \n",
       "        <p style=\"text-align: left;\">No property values were identified.</p>\n",
       "       \n",
       "    \n",
       "        <p style=\"text-align: left;\">No property values groups were identified.</p>\n",
       "    \n",
       "    "
      ],
      "text/plain": [
       "<IPython.core.display.HTML object>"
      ]
     },
     "metadata": {},
     "output_type": "display_data"
    },
    {
     "data": {
      "text/html": [
       "\n",
       "    <h2 style= \"padding-left: 0\"style= \"padding-left: 0\"> Put on PPE - <span style=\"font-size: 10px\" > UUID: f4cfc8f6-eb22-460a-a5fb-cba36ccdfcdc </span> </h1>\n",
       "    \n",
       "    <p><b>Owning Entity or Actor:</b>  Repiratory Therapist</p>\n",
       "    \n",
       "    \n",
       "        <p style=\"text-align: left;\">No property values were identified.</p>\n",
       "       \n",
       "    \n",
       "        <p style=\"text-align: left;\">No property values groups were identified.</p>\n",
       "    \n",
       "    "
      ],
      "text/plain": [
       "<IPython.core.display.HTML object>"
      ]
     },
     "metadata": {},
     "output_type": "display_data"
    },
    {
     "data": {
      "text/html": [
       "\n",
       "    <h2 style= \"padding-left: 0\"style= \"padding-left: 0\"> Review Patient Vitals - <span style=\"font-size: 10px\" > UUID: dab38352-e3ee-434a-966e-0337caeccc13 </span> </h1>\n",
       "    \n",
       "    <p><b>Owning Entity or Actor:</b>  Repiratory Therapist</p>\n",
       "    \n",
       "    \n",
       "        <p style=\"text-align: left;\">No property values were identified.</p>\n",
       "       \n",
       "    \n",
       "        <p style=\"text-align: left;\">No property values groups were identified.</p>\n",
       "    \n",
       "    "
      ],
      "text/plain": [
       "<IPython.core.display.HTML object>"
      ]
     },
     "metadata": {},
     "output_type": "display_data"
    },
    {
     "data": {
      "text/html": [
       "\n",
       "    <h1 style= \"padding-left: 0\"style= \"padding-left: 0\">Operational Process Review Vitals - <span style=\"font-size: 10px\" > UUID: ef9cd94f-75c5-458c-b4c6-cb253773d4dd </span> </h1>\n",
       "    <h2>Summary</h2>\n",
       "    <p></p>\n",
       "     <h2>Description</h2>\n",
       "    <!-- Description contains preformatted HTML content -->\n",
       "    <div></div>\n",
       "    \n",
       "        <p style=\"text-align: left;\">No property values were identified.</p>\n",
       "       \n",
       "    \n",
       "        <p style=\"text-align: left;\">No property values groups were identified.</p>\n",
       "    \n",
       "    "
      ],
      "text/plain": [
       "<IPython.core.display.HTML object>"
      ]
     },
     "metadata": {},
     "output_type": "display_data"
    },
    {
     "name": "stdout",
     "output_type": "stream",
     "text": [
      "\n"
     ]
    },
    {
     "data": {
      "text/markdown": [
       "# Operational Process: Review Vitals"
      ],
      "text/plain": [
       "<IPython.core.display.Markdown object>"
      ]
     },
     "metadata": {},
     "output_type": "display_data"
    },
    {
     "data": {
      "text/html": [
       "<div>\n",
       "<style scoped>\n",
       "    .dataframe tbody tr th:only-of-type {\n",
       "        vertical-align: middle;\n",
       "    }\n",
       "\n",
       "    .dataframe tbody tr th {\n",
       "        vertical-align: top;\n",
       "    }\n",
       "\n",
       "    .dataframe thead th {\n",
       "        text-align: right;\n",
       "    }\n",
       "</style>\n",
       "<table border=\"1\" class=\"dataframe\">\n",
       "  <thead>\n",
       "    <tr style=\"text-align: right;\">\n",
       "      <th></th>\n",
       "      <th>Function Owner</th>\n",
       "      <th>Function</th>\n",
       "      <th>Function Exchange</th>\n",
       "      <th>Function Exchange Items</th>\n",
       "      <th>Function Exchange Item Elements</th>\n",
       "    </tr>\n",
       "  </thead>\n",
       "  <tbody>\n",
       "    <tr>\n",
       "      <th>0</th>\n",
       "      <td>Patient</td>\n",
       "      <td>Convert Ventilator Air To Blood Oxygen</td>\n",
       "      <td>Vitals</td>\n",
       "      <td></td>\n",
       "      <td></td>\n",
       "    </tr>\n",
       "  </tbody>\n",
       "</table>\n",
       "</div>"
      ],
      "text/plain": [
       "  Function Owner                                Function Function Exchange  \\\n",
       "0        Patient  Convert Ventilator Air To Blood Oxygen            Vitals   \n",
       "\n",
       "  Function Exchange Items Function Exchange Item Elements  \n",
       "0                                                          "
      ]
     },
     "metadata": {},
     "output_type": "display_data"
    },
    {
     "data": {
      "text/markdown": [
       "# Operational Activites"
      ],
      "text/plain": [
       "<IPython.core.display.Markdown object>"
      ]
     },
     "metadata": {},
     "output_type": "display_data"
    },
    {
     "data": {
      "text/html": [
       "\n",
       "    <h2 style= \"padding-left: 0\"style= \"padding-left: 0\"> Convert Ventilator Air To Blood Oxygen - <span style=\"font-size: 10px\" > UUID: a16aab06-ae4a-44ab-bccc-0e4f4c8844f5 </span> </h1>\n",
       "    \n",
       "    <p><b>Owning Entity or Actor:</b>  Patient</p>\n",
       "    \n",
       "    \n",
       "        <p style=\"text-align: left;\">No property values were identified.</p>\n",
       "       \n",
       "    \n",
       "        <p style=\"text-align: left;\">No property values groups were identified.</p>\n",
       "    \n",
       "    "
      ],
      "text/plain": [
       "<IPython.core.display.HTML object>"
      ]
     },
     "metadata": {},
     "output_type": "display_data"
    },
    {
     "data": {
      "text/html": [
       "\n",
       "    <h2 style= \"padding-left: 0\"style= \"padding-left: 0\"> Review Patient Vitals - <span style=\"font-size: 10px\" > UUID: dab38352-e3ee-434a-966e-0337caeccc13 </span> </h1>\n",
       "    \n",
       "    <p><b>Owning Entity or Actor:</b>  Repiratory Therapist</p>\n",
       "    \n",
       "    \n",
       "        <p style=\"text-align: left;\">No property values were identified.</p>\n",
       "       \n",
       "    \n",
       "        <p style=\"text-align: left;\">No property values groups were identified.</p>\n",
       "    \n",
       "    "
      ],
      "text/plain": [
       "<IPython.core.display.HTML object>"
      ]
     },
     "metadata": {},
     "output_type": "display_data"
    },
    {
     "data": {
      "text/html": [
       "\n",
       "    <h1 style= \"padding-left: 0\"style= \"padding-left: 0\">Operational Process Review - <span style=\"font-size: 10px\" > UUID: c6af64a0-99eb-4845-ae17-3e47a38fbe55 </span> </h1>\n",
       "    <h2>Summary</h2>\n",
       "    <p></p>\n",
       "     <h2>Description</h2>\n",
       "    <!-- Description contains preformatted HTML content -->\n",
       "    <div></div>\n",
       "    \n",
       "        <p style=\"text-align: left;\">No property values were identified.</p>\n",
       "       \n",
       "    \n",
       "        <p style=\"text-align: left;\">No property values groups were identified.</p>\n",
       "    \n",
       "    "
      ],
      "text/plain": [
       "<IPython.core.display.HTML object>"
      ]
     },
     "metadata": {},
     "output_type": "display_data"
    },
    {
     "name": "stdout",
     "output_type": "stream",
     "text": [
      "\n"
     ]
    },
    {
     "data": {
      "text/markdown": [
       "# Operational Process: Review"
      ],
      "text/plain": [
       "<IPython.core.display.Markdown object>"
      ]
     },
     "metadata": {},
     "output_type": "display_data"
    },
    {
     "data": {
      "text/html": [
       "<div>\n",
       "<style scoped>\n",
       "    .dataframe tbody tr th:only-of-type {\n",
       "        vertical-align: middle;\n",
       "    }\n",
       "\n",
       "    .dataframe tbody tr th {\n",
       "        vertical-align: top;\n",
       "    }\n",
       "\n",
       "    .dataframe thead th {\n",
       "        text-align: right;\n",
       "    }\n",
       "</style>\n",
       "<table border=\"1\" class=\"dataframe\">\n",
       "  <thead>\n",
       "    <tr style=\"text-align: right;\">\n",
       "      <th></th>\n",
       "      <th>Function Owner</th>\n",
       "      <th>Function</th>\n",
       "      <th>Function Exchange</th>\n",
       "      <th>Function Exchange Items</th>\n",
       "      <th>Function Exchange Item Elements</th>\n",
       "    </tr>\n",
       "  </thead>\n",
       "  <tbody>\n",
       "    <tr>\n",
       "      <th>0</th>\n",
       "      <td>Repiratory Therapist</td>\n",
       "      <td>Review Patient Vitals</td>\n",
       "      <td>Settings</td>\n",
       "      <td></td>\n",
       "      <td></td>\n",
       "    </tr>\n",
       "    <tr>\n",
       "      <th>1</th>\n",
       "      <td>Patient</td>\n",
       "      <td>Convert Ventilator Air To Blood Oxygen</td>\n",
       "      <td>Vitals</td>\n",
       "      <td></td>\n",
       "      <td></td>\n",
       "    </tr>\n",
       "    <tr>\n",
       "      <th>2</th>\n",
       "      <td>Repiratory Therapist</td>\n",
       "      <td>Put on PPE</td>\n",
       "      <td>Clinician</td>\n",
       "      <td></td>\n",
       "      <td></td>\n",
       "    </tr>\n",
       "  </tbody>\n",
       "</table>\n",
       "</div>"
      ],
      "text/plain": [
       "         Function Owner                                Function  \\\n",
       "0  Repiratory Therapist                   Review Patient Vitals   \n",
       "1               Patient  Convert Ventilator Air To Blood Oxygen   \n",
       "2  Repiratory Therapist                              Put on PPE   \n",
       "\n",
       "  Function Exchange Function Exchange Items Function Exchange Item Elements  \n",
       "0          Settings                                                          \n",
       "1            Vitals                                                          \n",
       "2         Clinician                                                          "
      ]
     },
     "metadata": {},
     "output_type": "display_data"
    },
    {
     "data": {
      "text/markdown": [
       "# Operational Activites"
      ],
      "text/plain": [
       "<IPython.core.display.Markdown object>"
      ]
     },
     "metadata": {},
     "output_type": "display_data"
    },
    {
     "data": {
      "text/html": [
       "\n",
       "    <h2 style= \"padding-left: 0\"style= \"padding-left: 0\"> Convert Ventilator Air To Blood Oxygen - <span style=\"font-size: 10px\" > UUID: a16aab06-ae4a-44ab-bccc-0e4f4c8844f5 </span> </h1>\n",
       "    \n",
       "    <p><b>Owning Entity or Actor:</b>  Patient</p>\n",
       "    \n",
       "    \n",
       "        <p style=\"text-align: left;\">No property values were identified.</p>\n",
       "       \n",
       "    \n",
       "        <p style=\"text-align: left;\">No property values groups were identified.</p>\n",
       "    \n",
       "    "
      ],
      "text/plain": [
       "<IPython.core.display.HTML object>"
      ]
     },
     "metadata": {},
     "output_type": "display_data"
    },
    {
     "data": {
      "text/html": [
       "\n",
       "    <h2 style= \"padding-left: 0\"style= \"padding-left: 0\"> Establish Operating Modes - <span style=\"font-size: 10px\" > UUID: 8bae9ec2-ef59-47bf-8c72-1502f50a8089 </span> </h1>\n",
       "    \n",
       "    <p><b>Owning Entity or Actor:</b>  Clincian In Room</p>\n",
       "    \n",
       "    \n",
       "        <p style=\"text-align: left;\">No property values were identified.</p>\n",
       "       \n",
       "    \n",
       "        <p style=\"text-align: left;\">No property values groups were identified.</p>\n",
       "    \n",
       "    "
      ],
      "text/plain": [
       "<IPython.core.display.HTML object>"
      ]
     },
     "metadata": {},
     "output_type": "display_data"
    },
    {
     "data": {
      "text/html": [
       "\n",
       "    <h2 style= \"padding-left: 0\"style= \"padding-left: 0\"> Put on PPE - <span style=\"font-size: 10px\" > UUID: f4cfc8f6-eb22-460a-a5fb-cba36ccdfcdc </span> </h1>\n",
       "    \n",
       "    <p><b>Owning Entity or Actor:</b>  Repiratory Therapist</p>\n",
       "    \n",
       "    \n",
       "        <p style=\"text-align: left;\">No property values were identified.</p>\n",
       "       \n",
       "    \n",
       "        <p style=\"text-align: left;\">No property values groups were identified.</p>\n",
       "    \n",
       "    "
      ],
      "text/plain": [
       "<IPython.core.display.HTML object>"
      ]
     },
     "metadata": {},
     "output_type": "display_data"
    },
    {
     "data": {
      "text/html": [
       "\n",
       "    <h2 style= \"padding-left: 0\"style= \"padding-left: 0\"> Review Patient Vitals - <span style=\"font-size: 10px\" > UUID: dab38352-e3ee-434a-966e-0337caeccc13 </span> </h1>\n",
       "    \n",
       "    <p><b>Owning Entity or Actor:</b>  Repiratory Therapist</p>\n",
       "    \n",
       "    \n",
       "        <p style=\"text-align: left;\">No property values were identified.</p>\n",
       "       \n",
       "    \n",
       "        <p style=\"text-align: left;\">No property values groups were identified.</p>\n",
       "    \n",
       "    "
      ],
      "text/plain": [
       "<IPython.core.display.HTML object>"
      ]
     },
     "metadata": {},
     "output_type": "display_data"
    },
    {
     "data": {
      "text/html": [
       "\n",
       "    <h1 style= \"padding-left: 0\"style= \"padding-left: 0\">Operational Process Adjust - <span style=\"font-size: 10px\" > UUID: 9a4b4528-6ab4-488c-99ff-3569b54dea1e </span> </h1>\n",
       "    <h2>Summary</h2>\n",
       "    <p></p>\n",
       "     <h2>Description</h2>\n",
       "    <!-- Description contains preformatted HTML content -->\n",
       "    <div></div>\n",
       "    \n",
       "        <p style=\"text-align: left;\">No property values were identified.</p>\n",
       "       \n",
       "    \n",
       "        <p style=\"text-align: left;\">No property values groups were identified.</p>\n",
       "    \n",
       "    "
      ],
      "text/plain": [
       "<IPython.core.display.HTML object>"
      ]
     },
     "metadata": {},
     "output_type": "display_data"
    },
    {
     "name": "stdout",
     "output_type": "stream",
     "text": [
      "\n"
     ]
    },
    {
     "data": {
      "text/markdown": [
       "# Operational Process: Adjust"
      ],
      "text/plain": [
       "<IPython.core.display.Markdown object>"
      ]
     },
     "metadata": {},
     "output_type": "display_data"
    },
    {
     "data": {
      "text/html": [
       "<div>\n",
       "<style scoped>\n",
       "    .dataframe tbody tr th:only-of-type {\n",
       "        vertical-align: middle;\n",
       "    }\n",
       "\n",
       "    .dataframe tbody tr th {\n",
       "        vertical-align: top;\n",
       "    }\n",
       "\n",
       "    .dataframe thead th {\n",
       "        text-align: right;\n",
       "    }\n",
       "</style>\n",
       "<table border=\"1\" class=\"dataframe\">\n",
       "  <thead>\n",
       "    <tr style=\"text-align: right;\">\n",
       "      <th></th>\n",
       "      <th>Function Owner</th>\n",
       "      <th>Function</th>\n",
       "      <th>Function Exchange</th>\n",
       "      <th>Function Exchange Items</th>\n",
       "      <th>Function Exchange Item Elements</th>\n",
       "    </tr>\n",
       "  </thead>\n",
       "  <tbody>\n",
       "    <tr>\n",
       "      <th>0</th>\n",
       "      <td>Clincian In Room</td>\n",
       "      <td>Adjust Ventilation Settings</td>\n",
       "      <td>Adjusted Settings</td>\n",
       "      <td></td>\n",
       "      <td></td>\n",
       "    </tr>\n",
       "    <tr>\n",
       "      <th>1</th>\n",
       "      <td>Clincian In Room</td>\n",
       "      <td>Adjust Ventilation Settings</td>\n",
       "      <td>Read Status</td>\n",
       "      <td></td>\n",
       "      <td></td>\n",
       "    </tr>\n",
       "    <tr>\n",
       "      <th>2</th>\n",
       "      <td>Repiratory Therapist</td>\n",
       "      <td>Put on PPE</td>\n",
       "      <td>Adjust Settings</td>\n",
       "      <td></td>\n",
       "      <td></td>\n",
       "    </tr>\n",
       "  </tbody>\n",
       "</table>\n",
       "</div>"
      ],
      "text/plain": [
       "         Function Owner                     Function  Function Exchange  \\\n",
       "0      Clincian In Room  Adjust Ventilation Settings  Adjusted Settings   \n",
       "1      Clincian In Room  Adjust Ventilation Settings        Read Status   \n",
       "2  Repiratory Therapist                   Put on PPE    Adjust Settings   \n",
       "\n",
       "  Function Exchange Items Function Exchange Item Elements  \n",
       "0                                                          \n",
       "1                                                          \n",
       "2                                                          "
      ]
     },
     "metadata": {},
     "output_type": "display_data"
    },
    {
     "data": {
      "text/markdown": [
       "# Operational Activites"
      ],
      "text/plain": [
       "<IPython.core.display.Markdown object>"
      ]
     },
     "metadata": {},
     "output_type": "display_data"
    },
    {
     "data": {
      "text/html": [
       "\n",
       "    <h2 style= \"padding-left: 0\"style= \"padding-left: 0\"> Adjust Ventilation Settings - <span style=\"font-size: 10px\" > UUID: d541ccd5-1ca8-4a2a-a48e-a2203658bcaf </span> </h1>\n",
       "    \n",
       "    <p><b>Owning Entity or Actor:</b>  Clincian In Room</p>\n",
       "    \n",
       "    \n",
       "        <p style=\"text-align: left;\">No property values were identified.</p>\n",
       "       \n",
       "    \n",
       "        <p style=\"text-align: left;\">No property values groups were identified.</p>\n",
       "    \n",
       "    "
      ],
      "text/plain": [
       "<IPython.core.display.HTML object>"
      ]
     },
     "metadata": {},
     "output_type": "display_data"
    },
    {
     "data": {
      "text/html": [
       "\n",
       "    <h2 style= \"padding-left: 0\"style= \"padding-left: 0\"> Convert Ventilator Air To Blood Oxygen - <span style=\"font-size: 10px\" > UUID: a16aab06-ae4a-44ab-bccc-0e4f4c8844f5 </span> </h1>\n",
       "    \n",
       "    <p><b>Owning Entity or Actor:</b>  Patient</p>\n",
       "    \n",
       "    \n",
       "        <p style=\"text-align: left;\">No property values were identified.</p>\n",
       "       \n",
       "    \n",
       "        <p style=\"text-align: left;\">No property values groups were identified.</p>\n",
       "    \n",
       "    "
      ],
      "text/plain": [
       "<IPython.core.display.HTML object>"
      ]
     },
     "metadata": {},
     "output_type": "display_data"
    },
    {
     "data": {
      "text/html": [
       "\n",
       "    <h2 style= \"padding-left: 0\"style= \"padding-left: 0\"> Disposee PPE - <span style=\"font-size: 10px\" > UUID: 4b699ed7-24f0-4e29-84f9-f514528ada27 </span> </h1>\n",
       "    \n",
       "    <p><b>Owning Entity or Actor:</b>  Repiratory Therapist</p>\n",
       "    \n",
       "    \n",
       "        <p style=\"text-align: left;\">No property values were identified.</p>\n",
       "       \n",
       "    \n",
       "        <p style=\"text-align: left;\">No property values groups were identified.</p>\n",
       "    \n",
       "    "
      ],
      "text/plain": [
       "<IPython.core.display.HTML object>"
      ]
     },
     "metadata": {},
     "output_type": "display_data"
    },
    {
     "data": {
      "text/html": [
       "\n",
       "    <h2 style= \"padding-left: 0\"style= \"padding-left: 0\"> Put on PPE - <span style=\"font-size: 10px\" > UUID: f4cfc8f6-eb22-460a-a5fb-cba36ccdfcdc </span> </h1>\n",
       "    \n",
       "    <p><b>Owning Entity or Actor:</b>  Repiratory Therapist</p>\n",
       "    \n",
       "    \n",
       "        <p style=\"text-align: left;\">No property values were identified.</p>\n",
       "       \n",
       "    \n",
       "        <p style=\"text-align: left;\">No property values groups were identified.</p>\n",
       "    \n",
       "    "
      ],
      "text/plain": [
       "<IPython.core.display.HTML object>"
      ]
     },
     "metadata": {},
     "output_type": "display_data"
    },
    {
     "data": {
      "text/html": [
       "\n",
       "    <h1 style= \"padding-left: 0\"style= \"padding-left: 0\">Operational Process Adjust Remote - <span style=\"font-size: 10px\" > UUID: b6684049-80a0-4169-a56b-e99efa249dce </span> </h1>\n",
       "    <h2>Summary</h2>\n",
       "    <p></p>\n",
       "     <h2>Description</h2>\n",
       "    <!-- Description contains preformatted HTML content -->\n",
       "    <div></div>\n",
       "    \n",
       "        <p style=\"text-align: left;\">No property values were identified.</p>\n",
       "       \n",
       "    \n",
       "        <p style=\"text-align: left;\">No property values groups were identified.</p>\n",
       "    \n",
       "    "
      ],
      "text/plain": [
       "<IPython.core.display.HTML object>"
      ]
     },
     "metadata": {},
     "output_type": "display_data"
    },
    {
     "name": "stdout",
     "output_type": "stream",
     "text": [
      "\n"
     ]
    },
    {
     "data": {
      "text/markdown": [
       "# Operational Process: Adjust Remote"
      ],
      "text/plain": [
       "<IPython.core.display.Markdown object>"
      ]
     },
     "metadata": {},
     "output_type": "display_data"
    },
    {
     "data": {
      "text/html": [
       "<div>\n",
       "<style scoped>\n",
       "    .dataframe tbody tr th:only-of-type {\n",
       "        vertical-align: middle;\n",
       "    }\n",
       "\n",
       "    .dataframe tbody tr th {\n",
       "        vertical-align: top;\n",
       "    }\n",
       "\n",
       "    .dataframe thead th {\n",
       "        text-align: right;\n",
       "    }\n",
       "</style>\n",
       "<table border=\"1\" class=\"dataframe\">\n",
       "  <thead>\n",
       "    <tr style=\"text-align: right;\">\n",
       "      <th></th>\n",
       "      <th>Function Owner</th>\n",
       "      <th>Function</th>\n",
       "      <th>Function Exchange</th>\n",
       "      <th>Function Exchange Items</th>\n",
       "      <th>Function Exchange Item Elements</th>\n",
       "    </tr>\n",
       "  </thead>\n",
       "  <tbody>\n",
       "    <tr>\n",
       "      <th>0</th>\n",
       "      <td>Repiratory Therapist</td>\n",
       "      <td>Remote Operation</td>\n",
       "      <td>Adjust Settings</td>\n",
       "      <td></td>\n",
       "      <td></td>\n",
       "    </tr>\n",
       "    <tr>\n",
       "      <th>1</th>\n",
       "      <td>Repiratory Therapist</td>\n",
       "      <td>Review Patient Vitals</td>\n",
       "      <td>Settings</td>\n",
       "      <td></td>\n",
       "      <td></td>\n",
       "    </tr>\n",
       "  </tbody>\n",
       "</table>\n",
       "</div>"
      ],
      "text/plain": [
       "         Function Owner               Function Function Exchange  \\\n",
       "0  Repiratory Therapist       Remote Operation   Adjust Settings   \n",
       "1  Repiratory Therapist  Review Patient Vitals          Settings   \n",
       "\n",
       "  Function Exchange Items Function Exchange Item Elements  \n",
       "0                                                          \n",
       "1                                                          "
      ]
     },
     "metadata": {},
     "output_type": "display_data"
    },
    {
     "data": {
      "text/markdown": [
       "# Operational Activites"
      ],
      "text/plain": [
       "<IPython.core.display.Markdown object>"
      ]
     },
     "metadata": {},
     "output_type": "display_data"
    },
    {
     "data": {
      "text/html": [
       "\n",
       "    <h2 style= \"padding-left: 0\"style= \"padding-left: 0\"> Convert Ventilator Air To Blood Oxygen - <span style=\"font-size: 10px\" > UUID: a16aab06-ae4a-44ab-bccc-0e4f4c8844f5 </span> </h1>\n",
       "    \n",
       "    <p><b>Owning Entity or Actor:</b>  Patient</p>\n",
       "    \n",
       "    \n",
       "        <p style=\"text-align: left;\">No property values were identified.</p>\n",
       "       \n",
       "    \n",
       "        <p style=\"text-align: left;\">No property values groups were identified.</p>\n",
       "    \n",
       "    "
      ],
      "text/plain": [
       "<IPython.core.display.HTML object>"
      ]
     },
     "metadata": {},
     "output_type": "display_data"
    },
    {
     "data": {
      "text/html": [
       "\n",
       "    <h2 style= \"padding-left: 0\"style= \"padding-left: 0\"> Remote Operation - <span style=\"font-size: 10px\" > UUID: 7df79f42-98ec-4e2e-9317-18149a45eade </span> </h1>\n",
       "    \n",
       "    <p><b>Owning Entity or Actor:</b>  Repiratory Therapist</p>\n",
       "    \n",
       "    \n",
       "        <p style=\"text-align: left;\">No property values were identified.</p>\n",
       "       \n",
       "    \n",
       "        <p style=\"text-align: left;\">No property values groups were identified.</p>\n",
       "    \n",
       "    "
      ],
      "text/plain": [
       "<IPython.core.display.HTML object>"
      ]
     },
     "metadata": {},
     "output_type": "display_data"
    },
    {
     "data": {
      "text/html": [
       "\n",
       "    <h2 style= \"padding-left: 0\"style= \"padding-left: 0\"> Review Patient Vitals - <span style=\"font-size: 10px\" > UUID: dab38352-e3ee-434a-966e-0337caeccc13 </span> </h1>\n",
       "    \n",
       "    <p><b>Owning Entity or Actor:</b>  Repiratory Therapist</p>\n",
       "    \n",
       "    \n",
       "        <p style=\"text-align: left;\">No property values were identified.</p>\n",
       "       \n",
       "    \n",
       "        <p style=\"text-align: left;\">No property values groups were identified.</p>\n",
       "    \n",
       "    "
      ],
      "text/plain": [
       "<IPython.core.display.HTML object>"
      ]
     },
     "metadata": {},
     "output_type": "display_data"
    }
   ],
   "source": [
    "import capellambse_helper\n",
    "\n",
    "# Currently it does not handle Chains that Reference Chains. \n",
    "# Looking at options on how to handle it. \n",
    "#for fc in model.oa.all_operational_processes:\n",
    "#    capellambse_helper.Display_Operational_Process_Tables(fc)  \n",
    "env = jinja2.Environment()\n",
    "#HTML(env.from_string(capellambse_helper.Generate_Physical_Actor_Report(model)).render(model=model))\n",
    "\n",
    "\n",
    "for fc in model.oa.all_operational_processes:\n",
    "    #template = capellambse_helper.Generate_Operational_Process_Report(fc)\n",
    "    #print(env.from_string(template).render(op=fc))\n",
    "    #display.display(HTML(env.from_string(template).render(op=fc)))\n",
    "    capellambse_helper.Display_Operational_Process_Report(fc)\n"
   ]
  },
  {
   "cell_type": "code",
   "execution_count": null,
   "metadata": {},
   "outputs": [],
   "source": []
  }
 ],
 "metadata": {
  "kernelspec": {
   "display_name": "Python 3 (ipykernel)",
   "language": "python",
   "name": "python3"
  },
  "language_info": {
   "codemirror_mode": {
    "name": "ipython",
    "version": 3
   },
   "file_extension": ".py",
   "mimetype": "text/x-python",
   "name": "python",
   "nbconvert_exporter": "python",
   "pygments_lexer": "ipython3",
   "version": "3.11.7"
  },
  "vscode": {
   "interpreter": {
    "hash": "e7370f93d1d0cde622a1f8e1c04877d8463912d04d973331ad4851f04de6915a"
   }
  }
 },
 "nbformat": 4,
 "nbformat_minor": 4
}
